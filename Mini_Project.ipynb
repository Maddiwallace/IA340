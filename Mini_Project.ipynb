{
 "cells": [
  {
   "cell_type": "markdown",
   "id": "a9c13d5e-678c-4f4e-b4b4-1c36fecbe943",
   "metadata": {},
   "source": [
    "# Mini Project"
   ]
  },
  {
   "cell_type": "markdown",
   "id": "0249ad44-00ae-47b1-a249-550e5d3075ce",
   "metadata": {},
   "source": [
    "## Maddison Wallace and Sara Jane Ryan"
   ]
  },
  {
   "cell_type": "markdown",
   "id": "f12c9f4d-89c6-45ae-ac4f-679fef798b33",
   "metadata": {},
   "source": [
    "### We used Lottery Powerball winning numbers from 2010 to 2024 as our data. We wanted to know the most common numbers and the years with the most winning numbers. The AI analysis ouputs showed that there was an increase in lottery winning numbers in 2020 to 2023 in comparison to the 2010s. There wasn't one specific number that was more common than others. This analysis showed us that there is no pattern to winning lottery numbers, and more people have started to play the lottery in recent years. "
   ]
  },
  {
   "cell_type": "code",
   "execution_count": 1,
   "id": "014c3aae-cd0a-46ab-be0f-848d3b145a3e",
   "metadata": {
    "tags": []
   },
   "outputs": [
    {
     "data": {
      "text/html": [
       "<div>\n",
       "<style scoped>\n",
       "    .dataframe tbody tr th:only-of-type {\n",
       "        vertical-align: middle;\n",
       "    }\n",
       "\n",
       "    .dataframe tbody tr th {\n",
       "        vertical-align: top;\n",
       "    }\n",
       "\n",
       "    .dataframe thead th {\n",
       "        text-align: right;\n",
       "    }\n",
       "</style>\n",
       "<table border=\"1\" class=\"dataframe\">\n",
       "  <thead>\n",
       "    <tr style=\"text-align: right;\">\n",
       "      <th></th>\n",
       "      <th>Draw Date</th>\n",
       "      <th>Winning Numbers</th>\n",
       "      <th>Multiplier</th>\n",
       "    </tr>\n",
       "  </thead>\n",
       "  <tbody>\n",
       "    <tr>\n",
       "      <th>0</th>\n",
       "      <td>09/26/2020</td>\n",
       "      <td>11 21 27 36 62 24</td>\n",
       "      <td>3.0</td>\n",
       "    </tr>\n",
       "    <tr>\n",
       "      <th>1</th>\n",
       "      <td>09/30/2020</td>\n",
       "      <td>14 18 36 49 67 18</td>\n",
       "      <td>2.0</td>\n",
       "    </tr>\n",
       "    <tr>\n",
       "      <th>2</th>\n",
       "      <td>10/03/2020</td>\n",
       "      <td>18 31 36 43 47 20</td>\n",
       "      <td>2.0</td>\n",
       "    </tr>\n",
       "    <tr>\n",
       "      <th>3</th>\n",
       "      <td>10/07/2020</td>\n",
       "      <td>06 24 30 53 56 19</td>\n",
       "      <td>2.0</td>\n",
       "    </tr>\n",
       "    <tr>\n",
       "      <th>4</th>\n",
       "      <td>10/10/2020</td>\n",
       "      <td>05 18 23 40 50 18</td>\n",
       "      <td>3.0</td>\n",
       "    </tr>\n",
       "  </tbody>\n",
       "</table>\n",
       "</div>"
      ],
      "text/plain": [
       "    Draw Date    Winning Numbers  Multiplier\n",
       "0  09/26/2020  11 21 27 36 62 24         3.0\n",
       "1  09/30/2020  14 18 36 49 67 18         2.0\n",
       "2  10/03/2020  18 31 36 43 47 20         2.0\n",
       "3  10/07/2020  06 24 30 53 56 19         2.0\n",
       "4  10/10/2020  05 18 23 40 50 18         3.0"
      ]
     },
     "execution_count": 1,
     "metadata": {},
     "output_type": "execute_result"
    }
   ],
   "source": [
    "import warnings\n",
    "warnings.simplefilter('ignore')\n",
    "\n",
    "import pandas as pd\n",
    "\n",
    "df = pd.read_csv('s3://ia340-2024fall-2-237574/Lottery_Powerball_Winning_Numbers__Beginning_2010.csv') \n",
    "df.head()"
   ]
  },
  {
   "cell_type": "code",
   "execution_count": 2,
   "id": "d50ca9c0-2f20-4922-ac2f-5becf1ca0909",
   "metadata": {
    "tags": []
   },
   "outputs": [
    {
     "name": "stdout",
     "output_type": "stream",
     "text": [
      "<class 'pandas.core.frame.DataFrame'>\n",
      "RangeIndex: 1690 entries, 0 to 1689\n",
      "Data columns (total 3 columns):\n",
      " #   Column           Non-Null Count  Dtype  \n",
      "---  ------           --------------  -----  \n",
      " 0   Draw Date        1690 non-null   object \n",
      " 1   Winning Numbers  1690 non-null   object \n",
      " 2   Multiplier       1480 non-null   float64\n",
      "dtypes: float64(1), object(2)\n",
      "memory usage: 39.7+ KB\n"
     ]
    }
   ],
   "source": [
    "df.info()"
   ]
  },
  {
   "cell_type": "code",
   "execution_count": 3,
   "id": "8bcaa642-802d-4a6a-b1bc-789c399c6613",
   "metadata": {
    "tags": []
   },
   "outputs": [
    {
     "data": {
      "text/plain": [
       "Draw Date            0\n",
       "Winning Numbers      0\n",
       "Multiplier         210\n",
       "dtype: int64"
      ]
     },
     "execution_count": 3,
     "metadata": {},
     "output_type": "execute_result"
    }
   ],
   "source": [
    "df.isnull().sum()"
   ]
  },
  {
   "cell_type": "code",
   "execution_count": 4,
   "id": "beb32df3-0b3c-4a95-bae1-a8ea46fa76a3",
   "metadata": {
    "tags": []
   },
   "outputs": [
    {
     "data": {
      "text/plain": [
       "Draw Date          0\n",
       "Winning Numbers    0\n",
       "Multiplier         0\n",
       "dtype: int64"
      ]
     },
     "execution_count": 4,
     "metadata": {},
     "output_type": "execute_result"
    }
   ],
   "source": [
    "df = df.dropna() \n",
    "df.isnull().sum()"
   ]
  },
  {
   "cell_type": "code",
   "execution_count": 5,
   "id": "2ede9206-7b75-4a87-9149-af78f1fbb75c",
   "metadata": {
    "tags": []
   },
   "outputs": [
    {
     "data": {
      "text/html": [
       "<div>\n",
       "<style scoped>\n",
       "    .dataframe tbody tr th:only-of-type {\n",
       "        vertical-align: middle;\n",
       "    }\n",
       "\n",
       "    .dataframe tbody tr th {\n",
       "        vertical-align: top;\n",
       "    }\n",
       "\n",
       "    .dataframe thead th {\n",
       "        text-align: right;\n",
       "    }\n",
       "</style>\n",
       "<table border=\"1\" class=\"dataframe\">\n",
       "  <thead>\n",
       "    <tr style=\"text-align: right;\">\n",
       "      <th></th>\n",
       "      <th>Multiplier</th>\n",
       "    </tr>\n",
       "  </thead>\n",
       "  <tbody>\n",
       "    <tr>\n",
       "      <th>count</th>\n",
       "      <td>1480.000000</td>\n",
       "    </tr>\n",
       "    <tr>\n",
       "      <th>mean</th>\n",
       "      <td>2.793919</td>\n",
       "    </tr>\n",
       "    <tr>\n",
       "      <th>std</th>\n",
       "      <td>1.176208</td>\n",
       "    </tr>\n",
       "    <tr>\n",
       "      <th>min</th>\n",
       "      <td>2.000000</td>\n",
       "    </tr>\n",
       "    <tr>\n",
       "      <th>25%</th>\n",
       "      <td>2.000000</td>\n",
       "    </tr>\n",
       "    <tr>\n",
       "      <th>50%</th>\n",
       "      <td>2.000000</td>\n",
       "    </tr>\n",
       "    <tr>\n",
       "      <th>75%</th>\n",
       "      <td>3.000000</td>\n",
       "    </tr>\n",
       "    <tr>\n",
       "      <th>max</th>\n",
       "      <td>10.000000</td>\n",
       "    </tr>\n",
       "  </tbody>\n",
       "</table>\n",
       "</div>"
      ],
      "text/plain": [
       "        Multiplier\n",
       "count  1480.000000\n",
       "mean      2.793919\n",
       "std       1.176208\n",
       "min       2.000000\n",
       "25%       2.000000\n",
       "50%       2.000000\n",
       "75%       3.000000\n",
       "max      10.000000"
      ]
     },
     "execution_count": 5,
     "metadata": {},
     "output_type": "execute_result"
    }
   ],
   "source": [
    "df.describe()"
   ]
  },
  {
   "cell_type": "code",
   "execution_count": 6,
   "id": "2ca9a4e5-0268-47d8-a251-d935f71f3ea8",
   "metadata": {
    "tags": []
   },
   "outputs": [
    {
     "data": {
      "text/plain": [
       "Draw Date\n",
       "09/26/2020    1\n",
       "07/24/2021    1\n",
       "08/23/2021    1\n",
       "08/21/2021    1\n",
       "08/18/2021    1\n",
       "             ..\n",
       "08/06/2016    1\n",
       "08/10/2016    1\n",
       "08/13/2016    1\n",
       "08/17/2016    1\n",
       "10/07/2024    1\n",
       "Name: count, Length: 1480, dtype: int64"
      ]
     },
     "execution_count": 6,
     "metadata": {},
     "output_type": "execute_result"
    }
   ],
   "source": [
    "df['Draw Date'].value_counts()"
   ]
  },
  {
   "cell_type": "code",
   "execution_count": 7,
   "id": "da67e730-f642-49d6-a486-8c66cf6bb974",
   "metadata": {
    "tags": []
   },
   "outputs": [
    {
     "data": {
      "text/plain": [
       "Winning Numbers\n",
       "11 21 27 36 62 24    1\n",
       "01 04 11 59 67 10    1\n",
       "17 36 47 60 61 15    1\n",
       "16 28 36 39 59 04    1\n",
       "35 36 51 55 61 26    1\n",
       "                    ..\n",
       "20 33 36 47 52 12    1\n",
       "23 56 61 64 67 12    1\n",
       "38 44 60 64 69 06    1\n",
       "33 44 49 50 52 08    1\n",
       "18 30 31 52 63 22    1\n",
       "Name: count, Length: 1480, dtype: int64"
      ]
     },
     "execution_count": 7,
     "metadata": {},
     "output_type": "execute_result"
    }
   ],
   "source": [
    "df['Winning Numbers'].value_counts()"
   ]
  },
  {
   "cell_type": "code",
   "execution_count": 8,
   "id": "552f2e14-fd9b-43b1-b269-9672fa1da8d3",
   "metadata": {
    "tags": []
   },
   "outputs": [
    {
     "data": {
      "text/html": [
       "<div>\n",
       "<style scoped>\n",
       "    .dataframe tbody tr th:only-of-type {\n",
       "        vertical-align: middle;\n",
       "    }\n",
       "\n",
       "    .dataframe tbody tr th {\n",
       "        vertical-align: top;\n",
       "    }\n",
       "\n",
       "    .dataframe thead th {\n",
       "        text-align: right;\n",
       "    }\n",
       "</style>\n",
       "<table border=\"1\" class=\"dataframe\">\n",
       "  <thead>\n",
       "    <tr style=\"text-align: right;\">\n",
       "      <th></th>\n",
       "      <th>Winning Numbers</th>\n",
       "      <th>Multiplier</th>\n",
       "    </tr>\n",
       "    <tr>\n",
       "      <th>Draw Date</th>\n",
       "      <th></th>\n",
       "      <th></th>\n",
       "    </tr>\n",
       "  </thead>\n",
       "  <tbody>\n",
       "    <tr>\n",
       "      <th>09/26/2020</th>\n",
       "      <td>11 21 27 36 62 24</td>\n",
       "      <td>3.0</td>\n",
       "    </tr>\n",
       "    <tr>\n",
       "      <th>09/30/2020</th>\n",
       "      <td>14 18 36 49 67 18</td>\n",
       "      <td>2.0</td>\n",
       "    </tr>\n",
       "    <tr>\n",
       "      <th>10/03/2020</th>\n",
       "      <td>18 31 36 43 47 20</td>\n",
       "      <td>2.0</td>\n",
       "    </tr>\n",
       "    <tr>\n",
       "      <th>10/07/2020</th>\n",
       "      <td>06 24 30 53 56 19</td>\n",
       "      <td>2.0</td>\n",
       "    </tr>\n",
       "    <tr>\n",
       "      <th>10/10/2020</th>\n",
       "      <td>05 18 23 40 50 18</td>\n",
       "      <td>3.0</td>\n",
       "    </tr>\n",
       "  </tbody>\n",
       "</table>\n",
       "</div>"
      ],
      "text/plain": [
       "              Winning Numbers  Multiplier\n",
       "Draw Date                                \n",
       "09/26/2020  11 21 27 36 62 24         3.0\n",
       "09/30/2020  14 18 36 49 67 18         2.0\n",
       "10/03/2020  18 31 36 43 47 20         2.0\n",
       "10/07/2020  06 24 30 53 56 19         2.0\n",
       "10/10/2020  05 18 23 40 50 18         3.0"
      ]
     },
     "execution_count": 8,
     "metadata": {},
     "output_type": "execute_result"
    }
   ],
   "source": [
    "df.set_index('Draw Date',inplace=True) \n",
    "df.head()"
   ]
  },
  {
   "cell_type": "code",
   "execution_count": 9,
   "id": "a0682fed-bf71-4f8c-9f83-6388b55bd8b7",
   "metadata": {
    "tags": []
   },
   "outputs": [],
   "source": [
    "df.to_csv('clean_lottery.csv')"
   ]
  },
  {
   "cell_type": "code",
   "execution_count": 10,
   "id": "a7e5ba20-8007-489a-acbb-14e14217f398",
   "metadata": {
    "tags": []
   },
   "outputs": [
    {
     "name": "stdout",
     "output_type": "stream",
     "text": [
      "Requirement already satisfied: jupyter-ai~=1.0 in /home/ec2-user/anaconda3/envs/python3/lib/python3.10/site-packages (1.15.0)\n",
      "Requirement already satisfied: aiosqlite>=0.18 in /home/ec2-user/anaconda3/envs/python3/lib/python3.10/site-packages (from jupyter-ai~=1.0) (0.20.0)\n",
      "Requirement already satisfied: dask[distributed] in /home/ec2-user/anaconda3/envs/python3/lib/python3.10/site-packages (from jupyter-ai~=1.0) (2024.7.1)\n",
      "Requirement already satisfied: deepmerge>=1.0 in /home/ec2-user/anaconda3/envs/python3/lib/python3.10/site-packages (from jupyter-ai~=1.0) (2.0)\n",
      "Requirement already satisfied: faiss-cpu in /home/ec2-user/anaconda3/envs/python3/lib/python3.10/site-packages (from jupyter-ai~=1.0) (1.9.0)\n",
      "Requirement already satisfied: importlib-metadata>=5.2.0 in /home/ec2-user/anaconda3/envs/python3/lib/python3.10/site-packages (from jupyter-ai~=1.0) (6.11.0)\n",
      "Requirement already satisfied: jupyter-ai-magics in /home/ec2-user/anaconda3/envs/python3/lib/python3.10/site-packages (from jupyter-ai~=1.0) (2.25.0)\n",
      "Requirement already satisfied: jupyter-server<3,>=1.6 in /home/ec2-user/anaconda3/envs/python3/lib/python3.10/site-packages (from jupyter-ai~=1.0) (2.14.2)\n",
      "Requirement already satisfied: jupyterlab<4,>=3.5 in /home/ec2-user/anaconda3/envs/python3/lib/python3.10/site-packages (from jupyter-ai~=1.0) (3.6.8)\n",
      "Requirement already satisfied: traitlets>=5.0 in /home/ec2-user/anaconda3/envs/python3/lib/python3.10/site-packages (from jupyter-ai~=1.0) (5.14.3)\n",
      "Requirement already satisfied: typing-extensions>=4.5.0 in /home/ec2-user/anaconda3/envs/python3/lib/python3.10/site-packages (from jupyter-ai~=1.0) (4.12.2)\n",
      "Requirement already satisfied: zipp>=0.5 in /home/ec2-user/anaconda3/envs/python3/lib/python3.10/site-packages (from importlib-metadata>=5.2.0->jupyter-ai~=1.0) (3.19.2)\n",
      "Requirement already satisfied: anyio>=3.1.0 in /home/ec2-user/anaconda3/envs/python3/lib/python3.10/site-packages (from jupyter-server<3,>=1.6->jupyter-ai~=1.0) (4.4.0)\n",
      "Requirement already satisfied: argon2-cffi>=21.1 in /home/ec2-user/anaconda3/envs/python3/lib/python3.10/site-packages (from jupyter-server<3,>=1.6->jupyter-ai~=1.0) (23.1.0)\n",
      "Requirement already satisfied: jinja2>=3.0.3 in /home/ec2-user/anaconda3/envs/python3/lib/python3.10/site-packages (from jupyter-server<3,>=1.6->jupyter-ai~=1.0) (3.1.4)\n",
      "Requirement already satisfied: jupyter-client>=7.4.4 in /home/ec2-user/anaconda3/envs/python3/lib/python3.10/site-packages (from jupyter-server<3,>=1.6->jupyter-ai~=1.0) (7.4.9)\n",
      "Requirement already satisfied: jupyter-core!=5.0.*,>=4.12 in /home/ec2-user/anaconda3/envs/python3/lib/python3.10/site-packages (from jupyter-server<3,>=1.6->jupyter-ai~=1.0) (5.7.2)\n",
      "Requirement already satisfied: jupyter-events>=0.9.0 in /home/ec2-user/anaconda3/envs/python3/lib/python3.10/site-packages (from jupyter-server<3,>=1.6->jupyter-ai~=1.0) (0.10.0)\n",
      "Requirement already satisfied: jupyter-server-terminals>=0.4.4 in /home/ec2-user/anaconda3/envs/python3/lib/python3.10/site-packages (from jupyter-server<3,>=1.6->jupyter-ai~=1.0) (0.5.3)\n",
      "Requirement already satisfied: nbconvert>=6.4.4 in /home/ec2-user/anaconda3/envs/python3/lib/python3.10/site-packages (from jupyter-server<3,>=1.6->jupyter-ai~=1.0) (7.16.4)\n",
      "Requirement already satisfied: nbformat>=5.3.0 in /home/ec2-user/anaconda3/envs/python3/lib/python3.10/site-packages (from jupyter-server<3,>=1.6->jupyter-ai~=1.0) (5.10.4)\n",
      "Requirement already satisfied: overrides>=5.0 in /home/ec2-user/anaconda3/envs/python3/lib/python3.10/site-packages (from jupyter-server<3,>=1.6->jupyter-ai~=1.0) (7.7.0)\n",
      "Requirement already satisfied: packaging>=22.0 in /home/ec2-user/anaconda3/envs/python3/lib/python3.10/site-packages (from jupyter-server<3,>=1.6->jupyter-ai~=1.0) (24.1)\n",
      "Requirement already satisfied: prometheus-client>=0.9 in /home/ec2-user/anaconda3/envs/python3/lib/python3.10/site-packages (from jupyter-server<3,>=1.6->jupyter-ai~=1.0) (0.20.0)\n",
      "Requirement already satisfied: pyzmq>=24 in /home/ec2-user/anaconda3/envs/python3/lib/python3.10/site-packages (from jupyter-server<3,>=1.6->jupyter-ai~=1.0) (26.0.3)\n",
      "Requirement already satisfied: send2trash>=1.8.2 in /home/ec2-user/anaconda3/envs/python3/lib/python3.10/site-packages (from jupyter-server<3,>=1.6->jupyter-ai~=1.0) (1.8.3)\n",
      "Requirement already satisfied: terminado>=0.8.3 in /home/ec2-user/anaconda3/envs/python3/lib/python3.10/site-packages (from jupyter-server<3,>=1.6->jupyter-ai~=1.0) (0.18.1)\n",
      "Requirement already satisfied: tornado>=6.2.0 in /home/ec2-user/anaconda3/envs/python3/lib/python3.10/site-packages (from jupyter-server<3,>=1.6->jupyter-ai~=1.0) (6.4.1)\n",
      "Requirement already satisfied: websocket-client>=1.7 in /home/ec2-user/anaconda3/envs/python3/lib/python3.10/site-packages (from jupyter-server<3,>=1.6->jupyter-ai~=1.0) (1.8.0)\n",
      "Requirement already satisfied: ipython in /home/ec2-user/anaconda3/envs/python3/lib/python3.10/site-packages (from jupyterlab<4,>=3.5->jupyter-ai~=1.0) (8.26.0)\n",
      "Requirement already satisfied: jupyterlab-server~=2.19 in /home/ec2-user/anaconda3/envs/python3/lib/python3.10/site-packages (from jupyterlab<4,>=3.5->jupyter-ai~=1.0) (2.27.3)\n",
      "Requirement already satisfied: jupyter-ydoc~=0.2.4 in /home/ec2-user/anaconda3/envs/python3/lib/python3.10/site-packages (from jupyterlab<4,>=3.5->jupyter-ai~=1.0) (0.2.5)\n",
      "Requirement already satisfied: jupyter-server-ydoc~=0.8.0 in /home/ec2-user/anaconda3/envs/python3/lib/python3.10/site-packages (from jupyterlab<4,>=3.5->jupyter-ai~=1.0) (0.8.0)\n",
      "Requirement already satisfied: nbclassic in /home/ec2-user/anaconda3/envs/python3/lib/python3.10/site-packages (from jupyterlab<4,>=3.5->jupyter-ai~=1.0) (1.1.0)\n",
      "Requirement already satisfied: notebook<7 in /home/ec2-user/anaconda3/envs/python3/lib/python3.10/site-packages (from jupyterlab<4,>=3.5->jupyter-ai~=1.0) (6.5.7)\n",
      "Requirement already satisfied: tomli in /home/ec2-user/anaconda3/envs/python3/lib/python3.10/site-packages (from jupyterlab<4,>=3.5->jupyter-ai~=1.0) (2.0.1)\n",
      "Requirement already satisfied: click>=8.1 in /home/ec2-user/anaconda3/envs/python3/lib/python3.10/site-packages (from dask[distributed]->jupyter-ai~=1.0) (8.1.7)\n",
      "Requirement already satisfied: cloudpickle>=1.5.0 in /home/ec2-user/anaconda3/envs/python3/lib/python3.10/site-packages (from dask[distributed]->jupyter-ai~=1.0) (2.2.1)\n",
      "Requirement already satisfied: fsspec>=2021.09.0 in /home/ec2-user/anaconda3/envs/python3/lib/python3.10/site-packages (from dask[distributed]->jupyter-ai~=1.0) (2024.6.1)\n",
      "Requirement already satisfied: partd>=1.4.0 in /home/ec2-user/anaconda3/envs/python3/lib/python3.10/site-packages (from dask[distributed]->jupyter-ai~=1.0) (1.4.2)\n",
      "Requirement already satisfied: pyyaml>=5.3.1 in /home/ec2-user/anaconda3/envs/python3/lib/python3.10/site-packages (from dask[distributed]->jupyter-ai~=1.0) (6.0.1)\n",
      "Requirement already satisfied: toolz>=0.10.0 in /home/ec2-user/anaconda3/envs/python3/lib/python3.10/site-packages (from dask[distributed]->jupyter-ai~=1.0) (0.12.1)\n",
      "Requirement already satisfied: distributed==2024.7.1 in /home/ec2-user/anaconda3/envs/python3/lib/python3.10/site-packages (from dask[distributed]->jupyter-ai~=1.0) (2024.7.1)\n",
      "Requirement already satisfied: locket>=1.0.0 in /home/ec2-user/anaconda3/envs/python3/lib/python3.10/site-packages (from distributed==2024.7.1->dask[distributed]->jupyter-ai~=1.0) (1.0.0)\n",
      "Requirement already satisfied: msgpack>=1.0.0 in /home/ec2-user/anaconda3/envs/python3/lib/python3.10/site-packages (from distributed==2024.7.1->dask[distributed]->jupyter-ai~=1.0) (1.0.8)\n",
      "Requirement already satisfied: psutil>=5.7.2 in /home/ec2-user/anaconda3/envs/python3/lib/python3.10/site-packages (from distributed==2024.7.1->dask[distributed]->jupyter-ai~=1.0) (6.0.0)\n",
      "Requirement already satisfied: sortedcontainers>=2.0.5 in /home/ec2-user/anaconda3/envs/python3/lib/python3.10/site-packages (from distributed==2024.7.1->dask[distributed]->jupyter-ai~=1.0) (2.4.0)\n",
      "Requirement already satisfied: tblib>=1.6.0 in /home/ec2-user/anaconda3/envs/python3/lib/python3.10/site-packages (from distributed==2024.7.1->dask[distributed]->jupyter-ai~=1.0) (3.0.0)\n",
      "Requirement already satisfied: urllib3>=1.24.3 in /home/ec2-user/anaconda3/envs/python3/lib/python3.10/site-packages (from distributed==2024.7.1->dask[distributed]->jupyter-ai~=1.0) (2.2.2)\n",
      "Requirement already satisfied: zict>=3.0.0 in /home/ec2-user/anaconda3/envs/python3/lib/python3.10/site-packages (from distributed==2024.7.1->dask[distributed]->jupyter-ai~=1.0) (3.0.0)\n",
      "Requirement already satisfied: numpy<3.0,>=1.25.0 in /home/ec2-user/anaconda3/envs/python3/lib/python3.10/site-packages (from faiss-cpu->jupyter-ai~=1.0) (1.26.4)\n",
      "Requirement already satisfied: jsonpath-ng<2,>=1.5.3 in /home/ec2-user/anaconda3/envs/python3/lib/python3.10/site-packages (from jupyter-ai-magics->jupyter-ai~=1.0) (1.6.1)\n",
      "Requirement already satisfied: langchain-community<0.3.0,>=0.1.0 in /home/ec2-user/anaconda3/envs/python3/lib/python3.10/site-packages (from jupyter-ai-magics->jupyter-ai~=1.0) (0.2.17)\n",
      "Requirement already satisfied: langchain<0.3.0,>=0.1.0 in /home/ec2-user/anaconda3/envs/python3/lib/python3.10/site-packages (from jupyter-ai-magics->jupyter-ai~=1.0) (0.2.16)\n",
      "Requirement already satisfied: idna>=2.8 in /home/ec2-user/anaconda3/envs/python3/lib/python3.10/site-packages (from anyio>=3.1.0->jupyter-server<3,>=1.6->jupyter-ai~=1.0) (3.7)\n",
      "Requirement already satisfied: sniffio>=1.1 in /home/ec2-user/anaconda3/envs/python3/lib/python3.10/site-packages (from anyio>=3.1.0->jupyter-server<3,>=1.6->jupyter-ai~=1.0) (1.3.1)\n",
      "Requirement already satisfied: exceptiongroup>=1.0.2 in /home/ec2-user/anaconda3/envs/python3/lib/python3.10/site-packages (from anyio>=3.1.0->jupyter-server<3,>=1.6->jupyter-ai~=1.0) (1.2.2)\n",
      "Requirement already satisfied: argon2-cffi-bindings in /home/ec2-user/anaconda3/envs/python3/lib/python3.10/site-packages (from argon2-cffi>=21.1->jupyter-server<3,>=1.6->jupyter-ai~=1.0) (21.2.0)\n",
      "Requirement already satisfied: MarkupSafe>=2.0 in /home/ec2-user/anaconda3/envs/python3/lib/python3.10/site-packages (from jinja2>=3.0.3->jupyter-server<3,>=1.6->jupyter-ai~=1.0) (2.1.5)\n",
      "Requirement already satisfied: ply in /home/ec2-user/anaconda3/envs/python3/lib/python3.10/site-packages (from jsonpath-ng<2,>=1.5.3->jupyter-ai-magics->jupyter-ai~=1.0) (3.11)\n",
      "Requirement already satisfied: entrypoints in /home/ec2-user/anaconda3/envs/python3/lib/python3.10/site-packages (from jupyter-client>=7.4.4->jupyter-server<3,>=1.6->jupyter-ai~=1.0) (0.4)\n",
      "Requirement already satisfied: nest-asyncio>=1.5.4 in /home/ec2-user/anaconda3/envs/python3/lib/python3.10/site-packages (from jupyter-client>=7.4.4->jupyter-server<3,>=1.6->jupyter-ai~=1.0) (1.6.0)\n",
      "Requirement already satisfied: python-dateutil>=2.8.2 in /home/ec2-user/anaconda3/envs/python3/lib/python3.10/site-packages (from jupyter-client>=7.4.4->jupyter-server<3,>=1.6->jupyter-ai~=1.0) (2.9.0)\n",
      "Requirement already satisfied: platformdirs>=2.5 in /home/ec2-user/anaconda3/envs/python3/lib/python3.10/site-packages (from jupyter-core!=5.0.*,>=4.12->jupyter-server<3,>=1.6->jupyter-ai~=1.0) (4.2.2)\n",
      "Requirement already satisfied: jsonschema>=4.18.0 in /home/ec2-user/anaconda3/envs/python3/lib/python3.10/site-packages (from jsonschema[format-nongpl]>=4.18.0->jupyter-events>=0.9.0->jupyter-server<3,>=1.6->jupyter-ai~=1.0) (4.23.0)\n",
      "Requirement already satisfied: python-json-logger>=2.0.4 in /home/ec2-user/anaconda3/envs/python3/lib/python3.10/site-packages (from jupyter-events>=0.9.0->jupyter-server<3,>=1.6->jupyter-ai~=1.0) (2.0.7)\n",
      "Requirement already satisfied: referencing in /home/ec2-user/anaconda3/envs/python3/lib/python3.10/site-packages (from jupyter-events>=0.9.0->jupyter-server<3,>=1.6->jupyter-ai~=1.0) (0.35.1)\n",
      "Requirement already satisfied: rfc3339-validator in /home/ec2-user/anaconda3/envs/python3/lib/python3.10/site-packages (from jupyter-events>=0.9.0->jupyter-server<3,>=1.6->jupyter-ai~=1.0) (0.1.4)\n",
      "Requirement already satisfied: rfc3986-validator>=0.1.1 in /home/ec2-user/anaconda3/envs/python3/lib/python3.10/site-packages (from jupyter-events>=0.9.0->jupyter-server<3,>=1.6->jupyter-ai~=1.0) (0.1.1)\n",
      "Requirement already satisfied: jupyter-server-fileid<1,>=0.6.0 in /home/ec2-user/anaconda3/envs/python3/lib/python3.10/site-packages (from jupyter-server-ydoc~=0.8.0->jupyterlab<4,>=3.5->jupyter-ai~=1.0) (0.9.3)\n",
      "Requirement already satisfied: ypy-websocket<0.9.0,>=0.8.2 in /home/ec2-user/anaconda3/envs/python3/lib/python3.10/site-packages (from jupyter-server-ydoc~=0.8.0->jupyterlab<4,>=3.5->jupyter-ai~=1.0) (0.8.4)\n",
      "Requirement already satisfied: y-py<0.7.0,>=0.6.0 in /home/ec2-user/anaconda3/envs/python3/lib/python3.10/site-packages (from jupyter-ydoc~=0.2.4->jupyterlab<4,>=3.5->jupyter-ai~=1.0) (0.6.2)\n",
      "Requirement already satisfied: babel>=2.10 in /home/ec2-user/anaconda3/envs/python3/lib/python3.10/site-packages (from jupyterlab-server~=2.19->jupyterlab<4,>=3.5->jupyter-ai~=1.0) (2.14.0)\n",
      "Requirement already satisfied: json5>=0.9.0 in /home/ec2-user/anaconda3/envs/python3/lib/python3.10/site-packages (from jupyterlab-server~=2.19->jupyterlab<4,>=3.5->jupyter-ai~=1.0) (0.9.25)\n",
      "Requirement already satisfied: requests>=2.31 in /home/ec2-user/anaconda3/envs/python3/lib/python3.10/site-packages (from jupyterlab-server~=2.19->jupyterlab<4,>=3.5->jupyter-ai~=1.0) (2.32.3)\n",
      "Requirement already satisfied: SQLAlchemy<3,>=1.4 in /home/ec2-user/anaconda3/envs/python3/lib/python3.10/site-packages (from langchain<0.3.0,>=0.1.0->jupyter-ai-magics->jupyter-ai~=1.0) (2.0.31)\n",
      "Requirement already satisfied: aiohttp<4.0.0,>=3.8.3 in /home/ec2-user/anaconda3/envs/python3/lib/python3.10/site-packages (from langchain<0.3.0,>=0.1.0->jupyter-ai-magics->jupyter-ai~=1.0) (3.9.5)\n",
      "Requirement already satisfied: async-timeout<5.0.0,>=4.0.0 in /home/ec2-user/anaconda3/envs/python3/lib/python3.10/site-packages (from langchain<0.3.0,>=0.1.0->jupyter-ai-magics->jupyter-ai~=1.0) (4.0.3)\n",
      "Requirement already satisfied: langchain-core<0.3.0,>=0.2.38 in /home/ec2-user/anaconda3/envs/python3/lib/python3.10/site-packages (from langchain<0.3.0,>=0.1.0->jupyter-ai-magics->jupyter-ai~=1.0) (0.2.41)\n",
      "Requirement already satisfied: langchain-text-splitters<0.3.0,>=0.2.0 in /home/ec2-user/anaconda3/envs/python3/lib/python3.10/site-packages (from langchain<0.3.0,>=0.1.0->jupyter-ai-magics->jupyter-ai~=1.0) (0.2.4)\n",
      "Requirement already satisfied: langsmith<0.2.0,>=0.1.17 in /home/ec2-user/anaconda3/envs/python3/lib/python3.10/site-packages (from langchain<0.3.0,>=0.1.0->jupyter-ai-magics->jupyter-ai~=1.0) (0.1.132)\n",
      "Requirement already satisfied: pydantic<3,>=1 in /home/ec2-user/anaconda3/envs/python3/lib/python3.10/site-packages (from langchain<0.3.0,>=0.1.0->jupyter-ai-magics->jupyter-ai~=1.0) (2.9.1)\n",
      "Requirement already satisfied: tenacity!=8.4.0,<9.0.0,>=8.1.0 in /home/ec2-user/anaconda3/envs/python3/lib/python3.10/site-packages (from langchain<0.3.0,>=0.1.0->jupyter-ai-magics->jupyter-ai~=1.0) (8.5.0)\n",
      "Requirement already satisfied: dataclasses-json<0.7,>=0.5.7 in /home/ec2-user/anaconda3/envs/python3/lib/python3.10/site-packages (from langchain-community<0.3.0,>=0.1.0->jupyter-ai-magics->jupyter-ai~=1.0) (0.6.7)\n",
      "Requirement already satisfied: beautifulsoup4 in /home/ec2-user/anaconda3/envs/python3/lib/python3.10/site-packages (from nbconvert>=6.4.4->jupyter-server<3,>=1.6->jupyter-ai~=1.0) (4.12.3)\n",
      "Requirement already satisfied: bleach!=5.0.0 in /home/ec2-user/anaconda3/envs/python3/lib/python3.10/site-packages (from nbconvert>=6.4.4->jupyter-server<3,>=1.6->jupyter-ai~=1.0) (6.1.0)\n",
      "Requirement already satisfied: defusedxml in /home/ec2-user/anaconda3/envs/python3/lib/python3.10/site-packages (from nbconvert>=6.4.4->jupyter-server<3,>=1.6->jupyter-ai~=1.0) (0.7.1)\n",
      "Requirement already satisfied: jupyterlab-pygments in /home/ec2-user/anaconda3/envs/python3/lib/python3.10/site-packages (from nbconvert>=6.4.4->jupyter-server<3,>=1.6->jupyter-ai~=1.0) (0.3.0)\n",
      "Requirement already satisfied: mistune<4,>=2.0.3 in /home/ec2-user/anaconda3/envs/python3/lib/python3.10/site-packages (from nbconvert>=6.4.4->jupyter-server<3,>=1.6->jupyter-ai~=1.0) (3.0.2)\n",
      "Requirement already satisfied: nbclient>=0.5.0 in /home/ec2-user/anaconda3/envs/python3/lib/python3.10/site-packages (from nbconvert>=6.4.4->jupyter-server<3,>=1.6->jupyter-ai~=1.0) (0.10.0)\n",
      "Requirement already satisfied: pandocfilters>=1.4.1 in /home/ec2-user/anaconda3/envs/python3/lib/python3.10/site-packages (from nbconvert>=6.4.4->jupyter-server<3,>=1.6->jupyter-ai~=1.0) (1.5.0)\n",
      "Requirement already satisfied: pygments>=2.4.1 in /home/ec2-user/anaconda3/envs/python3/lib/python3.10/site-packages (from nbconvert>=6.4.4->jupyter-server<3,>=1.6->jupyter-ai~=1.0) (2.18.0)\n",
      "Requirement already satisfied: tinycss2 in /home/ec2-user/anaconda3/envs/python3/lib/python3.10/site-packages (from nbconvert>=6.4.4->jupyter-server<3,>=1.6->jupyter-ai~=1.0) (1.3.0)\n",
      "Requirement already satisfied: fastjsonschema>=2.15 in /home/ec2-user/anaconda3/envs/python3/lib/python3.10/site-packages (from nbformat>=5.3.0->jupyter-server<3,>=1.6->jupyter-ai~=1.0) (2.20.0)\n",
      "Requirement already satisfied: ipython-genutils in /home/ec2-user/anaconda3/envs/python3/lib/python3.10/site-packages (from notebook<7->jupyterlab<4,>=3.5->jupyter-ai~=1.0) (0.2.0)\n",
      "Requirement already satisfied: ipykernel in /home/ec2-user/anaconda3/envs/python3/lib/python3.10/site-packages (from notebook<7->jupyterlab<4,>=3.5->jupyter-ai~=1.0) (6.29.5)\n",
      "Requirement already satisfied: notebook-shim>=0.2.3 in /home/ec2-user/anaconda3/envs/python3/lib/python3.10/site-packages (from nbclassic->jupyterlab<4,>=3.5->jupyter-ai~=1.0) (0.2.4)\n",
      "Requirement already satisfied: ptyprocess in /home/ec2-user/anaconda3/envs/python3/lib/python3.10/site-packages (from terminado>=0.8.3->jupyter-server<3,>=1.6->jupyter-ai~=1.0) (0.7.0)\n",
      "Requirement already satisfied: decorator in /home/ec2-user/anaconda3/envs/python3/lib/python3.10/site-packages (from ipython->jupyterlab<4,>=3.5->jupyter-ai~=1.0) (5.1.1)\n",
      "Requirement already satisfied: jedi>=0.16 in /home/ec2-user/anaconda3/envs/python3/lib/python3.10/site-packages (from ipython->jupyterlab<4,>=3.5->jupyter-ai~=1.0) (0.18.2)\n",
      "Requirement already satisfied: matplotlib-inline in /home/ec2-user/anaconda3/envs/python3/lib/python3.10/site-packages (from ipython->jupyterlab<4,>=3.5->jupyter-ai~=1.0) (0.1.7)\n",
      "Requirement already satisfied: prompt-toolkit<3.1.0,>=3.0.41 in /home/ec2-user/anaconda3/envs/python3/lib/python3.10/site-packages (from ipython->jupyterlab<4,>=3.5->jupyter-ai~=1.0) (3.0.47)\n",
      "Requirement already satisfied: stack-data in /home/ec2-user/anaconda3/envs/python3/lib/python3.10/site-packages (from ipython->jupyterlab<4,>=3.5->jupyter-ai~=1.0) (0.6.2)\n",
      "Requirement already satisfied: pexpect>4.3 in /home/ec2-user/anaconda3/envs/python3/lib/python3.10/site-packages (from ipython->jupyterlab<4,>=3.5->jupyter-ai~=1.0) (4.9.0)\n",
      "Requirement already satisfied: aiosignal>=1.1.2 in /home/ec2-user/anaconda3/envs/python3/lib/python3.10/site-packages (from aiohttp<4.0.0,>=3.8.3->langchain<0.3.0,>=0.1.0->jupyter-ai-magics->jupyter-ai~=1.0) (1.3.1)\n",
      "Requirement already satisfied: attrs>=17.3.0 in /home/ec2-user/anaconda3/envs/python3/lib/python3.10/site-packages (from aiohttp<4.0.0,>=3.8.3->langchain<0.3.0,>=0.1.0->jupyter-ai-magics->jupyter-ai~=1.0) (23.2.0)\n",
      "Requirement already satisfied: frozenlist>=1.1.1 in /home/ec2-user/anaconda3/envs/python3/lib/python3.10/site-packages (from aiohttp<4.0.0,>=3.8.3->langchain<0.3.0,>=0.1.0->jupyter-ai-magics->jupyter-ai~=1.0) (1.4.1)\n",
      "Requirement already satisfied: multidict<7.0,>=4.5 in /home/ec2-user/anaconda3/envs/python3/lib/python3.10/site-packages (from aiohttp<4.0.0,>=3.8.3->langchain<0.3.0,>=0.1.0->jupyter-ai-magics->jupyter-ai~=1.0) (6.0.5)\n",
      "Requirement already satisfied: yarl<2.0,>=1.0 in /home/ec2-user/anaconda3/envs/python3/lib/python3.10/site-packages (from aiohttp<4.0.0,>=3.8.3->langchain<0.3.0,>=0.1.0->jupyter-ai-magics->jupyter-ai~=1.0) (1.9.4)\n",
      "Requirement already satisfied: six>=1.9.0 in /home/ec2-user/anaconda3/envs/python3/lib/python3.10/site-packages (from bleach!=5.0.0->nbconvert>=6.4.4->jupyter-server<3,>=1.6->jupyter-ai~=1.0) (1.16.0)\n",
      "Requirement already satisfied: webencodings in /home/ec2-user/anaconda3/envs/python3/lib/python3.10/site-packages (from bleach!=5.0.0->nbconvert>=6.4.4->jupyter-server<3,>=1.6->jupyter-ai~=1.0) (0.5.1)\n",
      "Requirement already satisfied: marshmallow<4.0.0,>=3.18.0 in /home/ec2-user/anaconda3/envs/python3/lib/python3.10/site-packages (from dataclasses-json<0.7,>=0.5.7->langchain-community<0.3.0,>=0.1.0->jupyter-ai-magics->jupyter-ai~=1.0) (3.22.0)\n",
      "Requirement already satisfied: typing-inspect<1,>=0.4.0 in /home/ec2-user/anaconda3/envs/python3/lib/python3.10/site-packages (from dataclasses-json<0.7,>=0.5.7->langchain-community<0.3.0,>=0.1.0->jupyter-ai-magics->jupyter-ai~=1.0) (0.9.0)\n",
      "Requirement already satisfied: parso<0.9.0,>=0.8.0 in /home/ec2-user/anaconda3/envs/python3/lib/python3.10/site-packages (from jedi>=0.16->ipython->jupyterlab<4,>=3.5->jupyter-ai~=1.0) (0.8.4)\n",
      "Requirement already satisfied: jsonschema-specifications>=2023.03.6 in /home/ec2-user/anaconda3/envs/python3/lib/python3.10/site-packages (from jsonschema>=4.18.0->jsonschema[format-nongpl]>=4.18.0->jupyter-events>=0.9.0->jupyter-server<3,>=1.6->jupyter-ai~=1.0) (2023.12.1)\n",
      "Requirement already satisfied: rpds-py>=0.7.1 in /home/ec2-user/anaconda3/envs/python3/lib/python3.10/site-packages (from jsonschema>=4.18.0->jsonschema[format-nongpl]>=4.18.0->jupyter-events>=0.9.0->jupyter-server<3,>=1.6->jupyter-ai~=1.0) (0.19.1)\n",
      "Requirement already satisfied: fqdn in /home/ec2-user/anaconda3/envs/python3/lib/python3.10/site-packages (from jsonschema[format-nongpl]>=4.18.0->jupyter-events>=0.9.0->jupyter-server<3,>=1.6->jupyter-ai~=1.0) (1.5.1)\n",
      "Requirement already satisfied: isoduration in /home/ec2-user/anaconda3/envs/python3/lib/python3.10/site-packages (from jsonschema[format-nongpl]>=4.18.0->jupyter-events>=0.9.0->jupyter-server<3,>=1.6->jupyter-ai~=1.0) (20.11.0)\n",
      "Requirement already satisfied: jsonpointer>1.13 in /home/ec2-user/anaconda3/envs/python3/lib/python3.10/site-packages (from jsonschema[format-nongpl]>=4.18.0->jupyter-events>=0.9.0->jupyter-server<3,>=1.6->jupyter-ai~=1.0) (3.0.0)\n",
      "Requirement already satisfied: uri-template in /home/ec2-user/anaconda3/envs/python3/lib/python3.10/site-packages (from jsonschema[format-nongpl]>=4.18.0->jupyter-events>=0.9.0->jupyter-server<3,>=1.6->jupyter-ai~=1.0) (1.3.0)\n",
      "Requirement already satisfied: webcolors>=24.6.0 in /home/ec2-user/anaconda3/envs/python3/lib/python3.10/site-packages (from jsonschema[format-nongpl]>=4.18.0->jupyter-events>=0.9.0->jupyter-server<3,>=1.6->jupyter-ai~=1.0) (24.6.0)\n",
      "Requirement already satisfied: jsonpatch<2.0,>=1.33 in /home/ec2-user/anaconda3/envs/python3/lib/python3.10/site-packages (from langchain-core<0.3.0,>=0.2.38->langchain<0.3.0,>=0.1.0->jupyter-ai-magics->jupyter-ai~=1.0) (1.33)\n",
      "Requirement already satisfied: httpx<1,>=0.23.0 in /home/ec2-user/anaconda3/envs/python3/lib/python3.10/site-packages (from langsmith<0.2.0,>=0.1.17->langchain<0.3.0,>=0.1.0->jupyter-ai-magics->jupyter-ai~=1.0) (0.27.0)\n",
      "Requirement already satisfied: orjson<4.0.0,>=3.9.14 in /home/ec2-user/anaconda3/envs/python3/lib/python3.10/site-packages (from langsmith<0.2.0,>=0.1.17->langchain<0.3.0,>=0.1.0->jupyter-ai-magics->jupyter-ai~=1.0) (3.10.7)\n",
      "Requirement already satisfied: requests-toolbelt<2.0.0,>=1.0.0 in /home/ec2-user/anaconda3/envs/python3/lib/python3.10/site-packages (from langsmith<0.2.0,>=0.1.17->langchain<0.3.0,>=0.1.0->jupyter-ai-magics->jupyter-ai~=1.0) (1.0.0)\n",
      "Requirement already satisfied: wcwidth in /home/ec2-user/anaconda3/envs/python3/lib/python3.10/site-packages (from prompt-toolkit<3.1.0,>=3.0.41->ipython->jupyterlab<4,>=3.5->jupyter-ai~=1.0) (0.2.13)\n",
      "Requirement already satisfied: annotated-types>=0.6.0 in /home/ec2-user/anaconda3/envs/python3/lib/python3.10/site-packages (from pydantic<3,>=1->langchain<0.3.0,>=0.1.0->jupyter-ai-magics->jupyter-ai~=1.0) (0.7.0)\n",
      "Requirement already satisfied: pydantic-core==2.23.3 in /home/ec2-user/anaconda3/envs/python3/lib/python3.10/site-packages (from pydantic<3,>=1->langchain<0.3.0,>=0.1.0->jupyter-ai-magics->jupyter-ai~=1.0) (2.23.3)\n",
      "Requirement already satisfied: charset-normalizer<4,>=2 in /home/ec2-user/anaconda3/envs/python3/lib/python3.10/site-packages (from requests>=2.31->jupyterlab-server~=2.19->jupyterlab<4,>=3.5->jupyter-ai~=1.0) (3.3.2)\n",
      "Requirement already satisfied: certifi>=2017.4.17 in /home/ec2-user/anaconda3/envs/python3/lib/python3.10/site-packages (from requests>=2.31->jupyterlab-server~=2.19->jupyterlab<4,>=3.5->jupyter-ai~=1.0) (2024.7.4)\n",
      "Requirement already satisfied: greenlet!=0.4.17 in /home/ec2-user/anaconda3/envs/python3/lib/python3.10/site-packages (from SQLAlchemy<3,>=1.4->langchain<0.3.0,>=0.1.0->jupyter-ai-magics->jupyter-ai~=1.0) (3.0.3)\n",
      "Requirement already satisfied: aiofiles<23,>=22.1.0 in /home/ec2-user/anaconda3/envs/python3/lib/python3.10/site-packages (from ypy-websocket<0.9.0,>=0.8.2->jupyter-server-ydoc~=0.8.0->jupyterlab<4,>=3.5->jupyter-ai~=1.0) (22.1.0)\n",
      "Requirement already satisfied: cffi>=1.0.1 in /home/ec2-user/anaconda3/envs/python3/lib/python3.10/site-packages (from argon2-cffi-bindings->argon2-cffi>=21.1->jupyter-server<3,>=1.6->jupyter-ai~=1.0) (1.16.0)\n",
      "Requirement already satisfied: soupsieve>1.2 in /home/ec2-user/anaconda3/envs/python3/lib/python3.10/site-packages (from beautifulsoup4->nbconvert>=6.4.4->jupyter-server<3,>=1.6->jupyter-ai~=1.0) (2.5)\n",
      "Requirement already satisfied: comm>=0.1.1 in /home/ec2-user/anaconda3/envs/python3/lib/python3.10/site-packages (from ipykernel->notebook<7->jupyterlab<4,>=3.5->jupyter-ai~=1.0) (0.2.2)\n",
      "Requirement already satisfied: debugpy>=1.6.5 in /home/ec2-user/anaconda3/envs/python3/lib/python3.10/site-packages (from ipykernel->notebook<7->jupyterlab<4,>=3.5->jupyter-ai~=1.0) (1.8.2)\n",
      "Requirement already satisfied: executing>=1.2.0 in /home/ec2-user/anaconda3/envs/python3/lib/python3.10/site-packages (from stack-data->ipython->jupyterlab<4,>=3.5->jupyter-ai~=1.0) (2.0.1)\n",
      "Requirement already satisfied: asttokens>=2.1.0 in /home/ec2-user/anaconda3/envs/python3/lib/python3.10/site-packages (from stack-data->ipython->jupyterlab<4,>=3.5->jupyter-ai~=1.0) (2.4.1)\n",
      "Requirement already satisfied: pure-eval in /home/ec2-user/anaconda3/envs/python3/lib/python3.10/site-packages (from stack-data->ipython->jupyterlab<4,>=3.5->jupyter-ai~=1.0) (0.2.3)\n",
      "Requirement already satisfied: pycparser in /home/ec2-user/anaconda3/envs/python3/lib/python3.10/site-packages (from cffi>=1.0.1->argon2-cffi-bindings->argon2-cffi>=21.1->jupyter-server<3,>=1.6->jupyter-ai~=1.0) (2.22)\n",
      "Requirement already satisfied: httpcore==1.* in /home/ec2-user/anaconda3/envs/python3/lib/python3.10/site-packages (from httpx<1,>=0.23.0->langsmith<0.2.0,>=0.1.17->langchain<0.3.0,>=0.1.0->jupyter-ai-magics->jupyter-ai~=1.0) (1.0.5)\n",
      "Requirement already satisfied: h11<0.15,>=0.13 in /home/ec2-user/anaconda3/envs/python3/lib/python3.10/site-packages (from httpcore==1.*->httpx<1,>=0.23.0->langsmith<0.2.0,>=0.1.17->langchain<0.3.0,>=0.1.0->jupyter-ai-magics->jupyter-ai~=1.0) (0.14.0)\n",
      "Requirement already satisfied: mypy-extensions>=0.3.0 in /home/ec2-user/anaconda3/envs/python3/lib/python3.10/site-packages (from typing-inspect<1,>=0.4.0->dataclasses-json<0.7,>=0.5.7->langchain-community<0.3.0,>=0.1.0->jupyter-ai-magics->jupyter-ai~=1.0) (1.0.0)\n",
      "Requirement already satisfied: arrow>=0.15.0 in /home/ec2-user/anaconda3/envs/python3/lib/python3.10/site-packages (from isoduration->jsonschema[format-nongpl]>=4.18.0->jupyter-events>=0.9.0->jupyter-server<3,>=1.6->jupyter-ai~=1.0) (1.3.0)\n",
      "Requirement already satisfied: types-python-dateutil>=2.8.10 in /home/ec2-user/anaconda3/envs/python3/lib/python3.10/site-packages (from arrow>=0.15.0->isoduration->jsonschema[format-nongpl]>=4.18.0->jupyter-events>=0.9.0->jupyter-server<3,>=1.6->jupyter-ai~=1.0) (2.9.0.20240316)\n",
      "Note: you may need to restart the kernel to use updated packages.\n"
     ]
    }
   ],
   "source": [
    "pip install jupyter-ai~=1.0"
   ]
  },
  {
   "cell_type": "code",
   "execution_count": 11,
   "id": "c17cae6b-443f-42e6-8517-afbd114dd8af",
   "metadata": {
    "tags": []
   },
   "outputs": [
    {
     "name": "stdout",
     "output_type": "stream",
     "text": [
      "Requirement already satisfied: jupyter-ai[all] in /home/ec2-user/anaconda3/envs/python3/lib/python3.10/site-packages (1.15.0)\n",
      "Requirement already satisfied: aiosqlite>=0.18 in /home/ec2-user/anaconda3/envs/python3/lib/python3.10/site-packages (from jupyter-ai[all]) (0.20.0)\n",
      "Requirement already satisfied: dask[distributed] in /home/ec2-user/anaconda3/envs/python3/lib/python3.10/site-packages (from jupyter-ai[all]) (2024.7.1)\n",
      "Requirement already satisfied: deepmerge>=1.0 in /home/ec2-user/anaconda3/envs/python3/lib/python3.10/site-packages (from jupyter-ai[all]) (2.0)\n",
      "Requirement already satisfied: faiss-cpu in /home/ec2-user/anaconda3/envs/python3/lib/python3.10/site-packages (from jupyter-ai[all]) (1.9.0)\n",
      "Requirement already satisfied: importlib-metadata>=5.2.0 in /home/ec2-user/anaconda3/envs/python3/lib/python3.10/site-packages (from jupyter-ai[all]) (6.11.0)\n",
      "Requirement already satisfied: jupyter-ai-magics in /home/ec2-user/anaconda3/envs/python3/lib/python3.10/site-packages (from jupyter-ai[all]) (2.25.0)\n",
      "Requirement already satisfied: jupyter-server<3,>=1.6 in /home/ec2-user/anaconda3/envs/python3/lib/python3.10/site-packages (from jupyter-ai[all]) (2.14.2)\n",
      "Requirement already satisfied: jupyterlab<4,>=3.5 in /home/ec2-user/anaconda3/envs/python3/lib/python3.10/site-packages (from jupyter-ai[all]) (3.6.8)\n",
      "Requirement already satisfied: traitlets>=5.0 in /home/ec2-user/anaconda3/envs/python3/lib/python3.10/site-packages (from jupyter-ai[all]) (5.14.3)\n",
      "Requirement already satisfied: typing-extensions>=4.5.0 in /home/ec2-user/anaconda3/envs/python3/lib/python3.10/site-packages (from jupyter-ai[all]) (4.12.2)\n",
      "Requirement already satisfied: pypdf in /home/ec2-user/anaconda3/envs/python3/lib/python3.10/site-packages (from jupyter-ai[all]) (5.0.1)\n",
      "Requirement already satisfied: zipp>=0.5 in /home/ec2-user/anaconda3/envs/python3/lib/python3.10/site-packages (from importlib-metadata>=5.2.0->jupyter-ai[all]) (3.19.2)\n",
      "Requirement already satisfied: anyio>=3.1.0 in /home/ec2-user/anaconda3/envs/python3/lib/python3.10/site-packages (from jupyter-server<3,>=1.6->jupyter-ai[all]) (4.4.0)\n",
      "Requirement already satisfied: argon2-cffi>=21.1 in /home/ec2-user/anaconda3/envs/python3/lib/python3.10/site-packages (from jupyter-server<3,>=1.6->jupyter-ai[all]) (23.1.0)\n",
      "Requirement already satisfied: jinja2>=3.0.3 in /home/ec2-user/anaconda3/envs/python3/lib/python3.10/site-packages (from jupyter-server<3,>=1.6->jupyter-ai[all]) (3.1.4)\n",
      "Requirement already satisfied: jupyter-client>=7.4.4 in /home/ec2-user/anaconda3/envs/python3/lib/python3.10/site-packages (from jupyter-server<3,>=1.6->jupyter-ai[all]) (7.4.9)\n",
      "Requirement already satisfied: jupyter-core!=5.0.*,>=4.12 in /home/ec2-user/anaconda3/envs/python3/lib/python3.10/site-packages (from jupyter-server<3,>=1.6->jupyter-ai[all]) (5.7.2)\n",
      "Requirement already satisfied: jupyter-events>=0.9.0 in /home/ec2-user/anaconda3/envs/python3/lib/python3.10/site-packages (from jupyter-server<3,>=1.6->jupyter-ai[all]) (0.10.0)\n",
      "Requirement already satisfied: jupyter-server-terminals>=0.4.4 in /home/ec2-user/anaconda3/envs/python3/lib/python3.10/site-packages (from jupyter-server<3,>=1.6->jupyter-ai[all]) (0.5.3)\n",
      "Requirement already satisfied: nbconvert>=6.4.4 in /home/ec2-user/anaconda3/envs/python3/lib/python3.10/site-packages (from jupyter-server<3,>=1.6->jupyter-ai[all]) (7.16.4)\n",
      "Requirement already satisfied: nbformat>=5.3.0 in /home/ec2-user/anaconda3/envs/python3/lib/python3.10/site-packages (from jupyter-server<3,>=1.6->jupyter-ai[all]) (5.10.4)\n",
      "Requirement already satisfied: overrides>=5.0 in /home/ec2-user/anaconda3/envs/python3/lib/python3.10/site-packages (from jupyter-server<3,>=1.6->jupyter-ai[all]) (7.7.0)\n",
      "Requirement already satisfied: packaging>=22.0 in /home/ec2-user/anaconda3/envs/python3/lib/python3.10/site-packages (from jupyter-server<3,>=1.6->jupyter-ai[all]) (24.1)\n",
      "Requirement already satisfied: prometheus-client>=0.9 in /home/ec2-user/anaconda3/envs/python3/lib/python3.10/site-packages (from jupyter-server<3,>=1.6->jupyter-ai[all]) (0.20.0)\n",
      "Requirement already satisfied: pyzmq>=24 in /home/ec2-user/anaconda3/envs/python3/lib/python3.10/site-packages (from jupyter-server<3,>=1.6->jupyter-ai[all]) (26.0.3)\n",
      "Requirement already satisfied: send2trash>=1.8.2 in /home/ec2-user/anaconda3/envs/python3/lib/python3.10/site-packages (from jupyter-server<3,>=1.6->jupyter-ai[all]) (1.8.3)\n",
      "Requirement already satisfied: terminado>=0.8.3 in /home/ec2-user/anaconda3/envs/python3/lib/python3.10/site-packages (from jupyter-server<3,>=1.6->jupyter-ai[all]) (0.18.1)\n",
      "Requirement already satisfied: tornado>=6.2.0 in /home/ec2-user/anaconda3/envs/python3/lib/python3.10/site-packages (from jupyter-server<3,>=1.6->jupyter-ai[all]) (6.4.1)\n",
      "Requirement already satisfied: websocket-client>=1.7 in /home/ec2-user/anaconda3/envs/python3/lib/python3.10/site-packages (from jupyter-server<3,>=1.6->jupyter-ai[all]) (1.8.0)\n",
      "Requirement already satisfied: ipython in /home/ec2-user/anaconda3/envs/python3/lib/python3.10/site-packages (from jupyterlab<4,>=3.5->jupyter-ai[all]) (8.26.0)\n",
      "Requirement already satisfied: jupyterlab-server~=2.19 in /home/ec2-user/anaconda3/envs/python3/lib/python3.10/site-packages (from jupyterlab<4,>=3.5->jupyter-ai[all]) (2.27.3)\n",
      "Requirement already satisfied: jupyter-ydoc~=0.2.4 in /home/ec2-user/anaconda3/envs/python3/lib/python3.10/site-packages (from jupyterlab<4,>=3.5->jupyter-ai[all]) (0.2.5)\n",
      "Requirement already satisfied: jupyter-server-ydoc~=0.8.0 in /home/ec2-user/anaconda3/envs/python3/lib/python3.10/site-packages (from jupyterlab<4,>=3.5->jupyter-ai[all]) (0.8.0)\n",
      "Requirement already satisfied: nbclassic in /home/ec2-user/anaconda3/envs/python3/lib/python3.10/site-packages (from jupyterlab<4,>=3.5->jupyter-ai[all]) (1.1.0)\n",
      "Requirement already satisfied: notebook<7 in /home/ec2-user/anaconda3/envs/python3/lib/python3.10/site-packages (from jupyterlab<4,>=3.5->jupyter-ai[all]) (6.5.7)\n",
      "Requirement already satisfied: tomli in /home/ec2-user/anaconda3/envs/python3/lib/python3.10/site-packages (from jupyterlab<4,>=3.5->jupyter-ai[all]) (2.0.1)\n",
      "Requirement already satisfied: click>=8.1 in /home/ec2-user/anaconda3/envs/python3/lib/python3.10/site-packages (from dask[distributed]->jupyter-ai[all]) (8.1.7)\n",
      "Requirement already satisfied: cloudpickle>=1.5.0 in /home/ec2-user/anaconda3/envs/python3/lib/python3.10/site-packages (from dask[distributed]->jupyter-ai[all]) (2.2.1)\n",
      "Requirement already satisfied: fsspec>=2021.09.0 in /home/ec2-user/anaconda3/envs/python3/lib/python3.10/site-packages (from dask[distributed]->jupyter-ai[all]) (2024.6.1)\n",
      "Requirement already satisfied: partd>=1.4.0 in /home/ec2-user/anaconda3/envs/python3/lib/python3.10/site-packages (from dask[distributed]->jupyter-ai[all]) (1.4.2)\n",
      "Requirement already satisfied: pyyaml>=5.3.1 in /home/ec2-user/anaconda3/envs/python3/lib/python3.10/site-packages (from dask[distributed]->jupyter-ai[all]) (6.0.1)\n",
      "Requirement already satisfied: toolz>=0.10.0 in /home/ec2-user/anaconda3/envs/python3/lib/python3.10/site-packages (from dask[distributed]->jupyter-ai[all]) (0.12.1)\n",
      "Requirement already satisfied: distributed==2024.7.1 in /home/ec2-user/anaconda3/envs/python3/lib/python3.10/site-packages (from dask[distributed]->jupyter-ai[all]) (2024.7.1)\n",
      "Requirement already satisfied: locket>=1.0.0 in /home/ec2-user/anaconda3/envs/python3/lib/python3.10/site-packages (from distributed==2024.7.1->dask[distributed]->jupyter-ai[all]) (1.0.0)\n",
      "Requirement already satisfied: msgpack>=1.0.0 in /home/ec2-user/anaconda3/envs/python3/lib/python3.10/site-packages (from distributed==2024.7.1->dask[distributed]->jupyter-ai[all]) (1.0.8)\n",
      "Requirement already satisfied: psutil>=5.7.2 in /home/ec2-user/anaconda3/envs/python3/lib/python3.10/site-packages (from distributed==2024.7.1->dask[distributed]->jupyter-ai[all]) (6.0.0)\n",
      "Requirement already satisfied: sortedcontainers>=2.0.5 in /home/ec2-user/anaconda3/envs/python3/lib/python3.10/site-packages (from distributed==2024.7.1->dask[distributed]->jupyter-ai[all]) (2.4.0)\n",
      "Requirement already satisfied: tblib>=1.6.0 in /home/ec2-user/anaconda3/envs/python3/lib/python3.10/site-packages (from distributed==2024.7.1->dask[distributed]->jupyter-ai[all]) (3.0.0)\n",
      "Requirement already satisfied: urllib3>=1.24.3 in /home/ec2-user/anaconda3/envs/python3/lib/python3.10/site-packages (from distributed==2024.7.1->dask[distributed]->jupyter-ai[all]) (2.2.2)\n",
      "Requirement already satisfied: zict>=3.0.0 in /home/ec2-user/anaconda3/envs/python3/lib/python3.10/site-packages (from distributed==2024.7.1->dask[distributed]->jupyter-ai[all]) (3.0.0)\n",
      "Requirement already satisfied: numpy<3.0,>=1.25.0 in /home/ec2-user/anaconda3/envs/python3/lib/python3.10/site-packages (from faiss-cpu->jupyter-ai[all]) (1.26.4)\n",
      "Requirement already satisfied: jsonpath-ng<2,>=1.5.3 in /home/ec2-user/anaconda3/envs/python3/lib/python3.10/site-packages (from jupyter-ai-magics->jupyter-ai[all]) (1.6.1)\n",
      "Requirement already satisfied: langchain-community<0.3.0,>=0.1.0 in /home/ec2-user/anaconda3/envs/python3/lib/python3.10/site-packages (from jupyter-ai-magics->jupyter-ai[all]) (0.2.17)\n",
      "Requirement already satisfied: langchain<0.3.0,>=0.1.0 in /home/ec2-user/anaconda3/envs/python3/lib/python3.10/site-packages (from jupyter-ai-magics->jupyter-ai[all]) (0.2.16)\n",
      "Requirement already satisfied: ai21 in /home/ec2-user/anaconda3/envs/python3/lib/python3.10/site-packages (from jupyter-ai-magics[all]; extra == \"all\"->jupyter-ai[all]) (2.15.1)\n",
      "Requirement already satisfied: boto3 in /home/ec2-user/anaconda3/envs/python3/lib/python3.10/site-packages (from jupyter-ai-magics[all]; extra == \"all\"->jupyter-ai[all]) (1.34.162)\n",
      "Requirement already satisfied: gpt4all in /home/ec2-user/anaconda3/envs/python3/lib/python3.10/site-packages (from jupyter-ai-magics[all]; extra == \"all\"->jupyter-ai[all]) (2.8.2)\n",
      "Requirement already satisfied: huggingface-hub in /home/ec2-user/anaconda3/envs/python3/lib/python3.10/site-packages (from jupyter-ai-magics[all]; extra == \"all\"->jupyter-ai[all]) (0.25.2)\n",
      "Requirement already satisfied: ipywidgets in /home/ec2-user/anaconda3/envs/python3/lib/python3.10/site-packages (from jupyter-ai-magics[all]; extra == \"all\"->jupyter-ai[all]) (8.1.3)\n",
      "Requirement already satisfied: langchain-anthropic in /home/ec2-user/anaconda3/envs/python3/lib/python3.10/site-packages (from jupyter-ai-magics[all]; extra == \"all\"->jupyter-ai[all]) (0.1.23)\n",
      "Requirement already satisfied: langchain-aws in /home/ec2-user/anaconda3/envs/python3/lib/python3.10/site-packages (from jupyter-ai-magics[all]; extra == \"all\"->jupyter-ai[all]) (0.1.18)\n",
      "Requirement already satisfied: langchain-cohere in /home/ec2-user/anaconda3/envs/python3/lib/python3.10/site-packages (from jupyter-ai-magics[all]; extra == \"all\"->jupyter-ai[all]) (0.2.4)\n",
      "Requirement already satisfied: langchain-google-genai in /home/ec2-user/anaconda3/envs/python3/lib/python3.10/site-packages (from jupyter-ai-magics[all]; extra == \"all\"->jupyter-ai[all]) (1.0.10)\n",
      "Requirement already satisfied: langchain-mistralai in /home/ec2-user/anaconda3/envs/python3/lib/python3.10/site-packages (from jupyter-ai-magics[all]; extra == \"all\"->jupyter-ai[all]) (0.1.13)\n",
      "Requirement already satisfied: langchain-nvidia-ai-endpoints in /home/ec2-user/anaconda3/envs/python3/lib/python3.10/site-packages (from jupyter-ai-magics[all]; extra == \"all\"->jupyter-ai[all]) (0.2.2)\n",
      "Requirement already satisfied: langchain-ollama in /home/ec2-user/anaconda3/envs/python3/lib/python3.10/site-packages (from jupyter-ai-magics[all]; extra == \"all\"->jupyter-ai[all]) (0.1.3)\n",
      "Requirement already satisfied: langchain-openai in /home/ec2-user/anaconda3/envs/python3/lib/python3.10/site-packages (from jupyter-ai-magics[all]; extra == \"all\"->jupyter-ai[all]) (0.1.25)\n",
      "Requirement already satisfied: pillow in /home/ec2-user/anaconda3/envs/python3/lib/python3.10/site-packages (from jupyter-ai-magics[all]; extra == \"all\"->jupyter-ai[all]) (10.4.0)\n",
      "Requirement already satisfied: qianfan in /home/ec2-user/anaconda3/envs/python3/lib/python3.10/site-packages (from jupyter-ai-magics[all]; extra == \"all\"->jupyter-ai[all]) (0.4.9.1)\n",
      "Requirement already satisfied: together in /home/ec2-user/anaconda3/envs/python3/lib/python3.10/site-packages (from jupyter-ai-magics[all]; extra == \"all\"->jupyter-ai[all]) (1.3.1)\n",
      "Requirement already satisfied: idna>=2.8 in /home/ec2-user/anaconda3/envs/python3/lib/python3.10/site-packages (from anyio>=3.1.0->jupyter-server<3,>=1.6->jupyter-ai[all]) (3.7)\n",
      "Requirement already satisfied: sniffio>=1.1 in /home/ec2-user/anaconda3/envs/python3/lib/python3.10/site-packages (from anyio>=3.1.0->jupyter-server<3,>=1.6->jupyter-ai[all]) (1.3.1)\n",
      "Requirement already satisfied: exceptiongroup>=1.0.2 in /home/ec2-user/anaconda3/envs/python3/lib/python3.10/site-packages (from anyio>=3.1.0->jupyter-server<3,>=1.6->jupyter-ai[all]) (1.2.2)\n",
      "Requirement already satisfied: argon2-cffi-bindings in /home/ec2-user/anaconda3/envs/python3/lib/python3.10/site-packages (from argon2-cffi>=21.1->jupyter-server<3,>=1.6->jupyter-ai[all]) (21.2.0)\n",
      "Requirement already satisfied: MarkupSafe>=2.0 in /home/ec2-user/anaconda3/envs/python3/lib/python3.10/site-packages (from jinja2>=3.0.3->jupyter-server<3,>=1.6->jupyter-ai[all]) (2.1.5)\n",
      "Requirement already satisfied: ply in /home/ec2-user/anaconda3/envs/python3/lib/python3.10/site-packages (from jsonpath-ng<2,>=1.5.3->jupyter-ai-magics->jupyter-ai[all]) (3.11)\n",
      "Requirement already satisfied: entrypoints in /home/ec2-user/anaconda3/envs/python3/lib/python3.10/site-packages (from jupyter-client>=7.4.4->jupyter-server<3,>=1.6->jupyter-ai[all]) (0.4)\n",
      "Requirement already satisfied: nest-asyncio>=1.5.4 in /home/ec2-user/anaconda3/envs/python3/lib/python3.10/site-packages (from jupyter-client>=7.4.4->jupyter-server<3,>=1.6->jupyter-ai[all]) (1.6.0)\n",
      "Requirement already satisfied: python-dateutil>=2.8.2 in /home/ec2-user/anaconda3/envs/python3/lib/python3.10/site-packages (from jupyter-client>=7.4.4->jupyter-server<3,>=1.6->jupyter-ai[all]) (2.9.0)\n",
      "Requirement already satisfied: platformdirs>=2.5 in /home/ec2-user/anaconda3/envs/python3/lib/python3.10/site-packages (from jupyter-core!=5.0.*,>=4.12->jupyter-server<3,>=1.6->jupyter-ai[all]) (4.2.2)\n",
      "Requirement already satisfied: jsonschema>=4.18.0 in /home/ec2-user/anaconda3/envs/python3/lib/python3.10/site-packages (from jsonschema[format-nongpl]>=4.18.0->jupyter-events>=0.9.0->jupyter-server<3,>=1.6->jupyter-ai[all]) (4.23.0)\n",
      "Requirement already satisfied: python-json-logger>=2.0.4 in /home/ec2-user/anaconda3/envs/python3/lib/python3.10/site-packages (from jupyter-events>=0.9.0->jupyter-server<3,>=1.6->jupyter-ai[all]) (2.0.7)\n",
      "Requirement already satisfied: referencing in /home/ec2-user/anaconda3/envs/python3/lib/python3.10/site-packages (from jupyter-events>=0.9.0->jupyter-server<3,>=1.6->jupyter-ai[all]) (0.35.1)\n",
      "Requirement already satisfied: rfc3339-validator in /home/ec2-user/anaconda3/envs/python3/lib/python3.10/site-packages (from jupyter-events>=0.9.0->jupyter-server<3,>=1.6->jupyter-ai[all]) (0.1.4)\n",
      "Requirement already satisfied: rfc3986-validator>=0.1.1 in /home/ec2-user/anaconda3/envs/python3/lib/python3.10/site-packages (from jupyter-events>=0.9.0->jupyter-server<3,>=1.6->jupyter-ai[all]) (0.1.1)\n",
      "Requirement already satisfied: jupyter-server-fileid<1,>=0.6.0 in /home/ec2-user/anaconda3/envs/python3/lib/python3.10/site-packages (from jupyter-server-ydoc~=0.8.0->jupyterlab<4,>=3.5->jupyter-ai[all]) (0.9.3)\n",
      "Requirement already satisfied: ypy-websocket<0.9.0,>=0.8.2 in /home/ec2-user/anaconda3/envs/python3/lib/python3.10/site-packages (from jupyter-server-ydoc~=0.8.0->jupyterlab<4,>=3.5->jupyter-ai[all]) (0.8.4)\n",
      "Requirement already satisfied: y-py<0.7.0,>=0.6.0 in /home/ec2-user/anaconda3/envs/python3/lib/python3.10/site-packages (from jupyter-ydoc~=0.2.4->jupyterlab<4,>=3.5->jupyter-ai[all]) (0.6.2)\n",
      "Requirement already satisfied: babel>=2.10 in /home/ec2-user/anaconda3/envs/python3/lib/python3.10/site-packages (from jupyterlab-server~=2.19->jupyterlab<4,>=3.5->jupyter-ai[all]) (2.14.0)\n",
      "Requirement already satisfied: json5>=0.9.0 in /home/ec2-user/anaconda3/envs/python3/lib/python3.10/site-packages (from jupyterlab-server~=2.19->jupyterlab<4,>=3.5->jupyter-ai[all]) (0.9.25)\n",
      "Requirement already satisfied: requests>=2.31 in /home/ec2-user/anaconda3/envs/python3/lib/python3.10/site-packages (from jupyterlab-server~=2.19->jupyterlab<4,>=3.5->jupyter-ai[all]) (2.32.3)\n",
      "Requirement already satisfied: SQLAlchemy<3,>=1.4 in /home/ec2-user/anaconda3/envs/python3/lib/python3.10/site-packages (from langchain<0.3.0,>=0.1.0->jupyter-ai-magics->jupyter-ai[all]) (2.0.31)\n",
      "Requirement already satisfied: aiohttp<4.0.0,>=3.8.3 in /home/ec2-user/anaconda3/envs/python3/lib/python3.10/site-packages (from langchain<0.3.0,>=0.1.0->jupyter-ai-magics->jupyter-ai[all]) (3.9.5)\n",
      "Requirement already satisfied: async-timeout<5.0.0,>=4.0.0 in /home/ec2-user/anaconda3/envs/python3/lib/python3.10/site-packages (from langchain<0.3.0,>=0.1.0->jupyter-ai-magics->jupyter-ai[all]) (4.0.3)\n",
      "Requirement already satisfied: langchain-core<0.3.0,>=0.2.38 in /home/ec2-user/anaconda3/envs/python3/lib/python3.10/site-packages (from langchain<0.3.0,>=0.1.0->jupyter-ai-magics->jupyter-ai[all]) (0.2.41)\n",
      "Requirement already satisfied: langchain-text-splitters<0.3.0,>=0.2.0 in /home/ec2-user/anaconda3/envs/python3/lib/python3.10/site-packages (from langchain<0.3.0,>=0.1.0->jupyter-ai-magics->jupyter-ai[all]) (0.2.4)\n",
      "Requirement already satisfied: langsmith<0.2.0,>=0.1.17 in /home/ec2-user/anaconda3/envs/python3/lib/python3.10/site-packages (from langchain<0.3.0,>=0.1.0->jupyter-ai-magics->jupyter-ai[all]) (0.1.132)\n",
      "Requirement already satisfied: pydantic<3,>=1 in /home/ec2-user/anaconda3/envs/python3/lib/python3.10/site-packages (from langchain<0.3.0,>=0.1.0->jupyter-ai-magics->jupyter-ai[all]) (2.9.1)\n",
      "Requirement already satisfied: tenacity!=8.4.0,<9.0.0,>=8.1.0 in /home/ec2-user/anaconda3/envs/python3/lib/python3.10/site-packages (from langchain<0.3.0,>=0.1.0->jupyter-ai-magics->jupyter-ai[all]) (8.5.0)\n",
      "Requirement already satisfied: dataclasses-json<0.7,>=0.5.7 in /home/ec2-user/anaconda3/envs/python3/lib/python3.10/site-packages (from langchain-community<0.3.0,>=0.1.0->jupyter-ai-magics->jupyter-ai[all]) (0.6.7)\n",
      "Requirement already satisfied: beautifulsoup4 in /home/ec2-user/anaconda3/envs/python3/lib/python3.10/site-packages (from nbconvert>=6.4.4->jupyter-server<3,>=1.6->jupyter-ai[all]) (4.12.3)\n",
      "Requirement already satisfied: bleach!=5.0.0 in /home/ec2-user/anaconda3/envs/python3/lib/python3.10/site-packages (from nbconvert>=6.4.4->jupyter-server<3,>=1.6->jupyter-ai[all]) (6.1.0)\n",
      "Requirement already satisfied: defusedxml in /home/ec2-user/anaconda3/envs/python3/lib/python3.10/site-packages (from nbconvert>=6.4.4->jupyter-server<3,>=1.6->jupyter-ai[all]) (0.7.1)\n",
      "Requirement already satisfied: jupyterlab-pygments in /home/ec2-user/anaconda3/envs/python3/lib/python3.10/site-packages (from nbconvert>=6.4.4->jupyter-server<3,>=1.6->jupyter-ai[all]) (0.3.0)\n",
      "Requirement already satisfied: mistune<4,>=2.0.3 in /home/ec2-user/anaconda3/envs/python3/lib/python3.10/site-packages (from nbconvert>=6.4.4->jupyter-server<3,>=1.6->jupyter-ai[all]) (3.0.2)\n",
      "Requirement already satisfied: nbclient>=0.5.0 in /home/ec2-user/anaconda3/envs/python3/lib/python3.10/site-packages (from nbconvert>=6.4.4->jupyter-server<3,>=1.6->jupyter-ai[all]) (0.10.0)\n",
      "Requirement already satisfied: pandocfilters>=1.4.1 in /home/ec2-user/anaconda3/envs/python3/lib/python3.10/site-packages (from nbconvert>=6.4.4->jupyter-server<3,>=1.6->jupyter-ai[all]) (1.5.0)\n",
      "Requirement already satisfied: pygments>=2.4.1 in /home/ec2-user/anaconda3/envs/python3/lib/python3.10/site-packages (from nbconvert>=6.4.4->jupyter-server<3,>=1.6->jupyter-ai[all]) (2.18.0)\n",
      "Requirement already satisfied: tinycss2 in /home/ec2-user/anaconda3/envs/python3/lib/python3.10/site-packages (from nbconvert>=6.4.4->jupyter-server<3,>=1.6->jupyter-ai[all]) (1.3.0)\n",
      "Requirement already satisfied: fastjsonschema>=2.15 in /home/ec2-user/anaconda3/envs/python3/lib/python3.10/site-packages (from nbformat>=5.3.0->jupyter-server<3,>=1.6->jupyter-ai[all]) (2.20.0)\n",
      "Requirement already satisfied: ipython-genutils in /home/ec2-user/anaconda3/envs/python3/lib/python3.10/site-packages (from notebook<7->jupyterlab<4,>=3.5->jupyter-ai[all]) (0.2.0)\n",
      "Requirement already satisfied: ipykernel in /home/ec2-user/anaconda3/envs/python3/lib/python3.10/site-packages (from notebook<7->jupyterlab<4,>=3.5->jupyter-ai[all]) (6.29.5)\n",
      "Requirement already satisfied: notebook-shim>=0.2.3 in /home/ec2-user/anaconda3/envs/python3/lib/python3.10/site-packages (from nbclassic->jupyterlab<4,>=3.5->jupyter-ai[all]) (0.2.4)\n",
      "Requirement already satisfied: ptyprocess in /home/ec2-user/anaconda3/envs/python3/lib/python3.10/site-packages (from terminado>=0.8.3->jupyter-server<3,>=1.6->jupyter-ai[all]) (0.7.0)\n",
      "Requirement already satisfied: ai21-tokenizer<1.0.0,>=0.12.0 in /home/ec2-user/anaconda3/envs/python3/lib/python3.10/site-packages (from ai21->jupyter-ai-magics[all]; extra == \"all\"->jupyter-ai[all]) (0.12.0)\n",
      "Requirement already satisfied: httpx<0.28.0,>=0.27.0 in /home/ec2-user/anaconda3/envs/python3/lib/python3.10/site-packages (from ai21->jupyter-ai-magics[all]; extra == \"all\"->jupyter-ai[all]) (0.27.0)\n",
      "Requirement already satisfied: botocore<1.35.0,>=1.34.162 in /home/ec2-user/anaconda3/envs/python3/lib/python3.10/site-packages (from boto3->jupyter-ai-magics[all]; extra == \"all\"->jupyter-ai[all]) (1.34.162)\n",
      "Requirement already satisfied: jmespath<2.0.0,>=0.7.1 in /home/ec2-user/anaconda3/envs/python3/lib/python3.10/site-packages (from boto3->jupyter-ai-magics[all]; extra == \"all\"->jupyter-ai[all]) (1.0.1)\n",
      "Requirement already satisfied: s3transfer<0.11.0,>=0.10.0 in /home/ec2-user/anaconda3/envs/python3/lib/python3.10/site-packages (from boto3->jupyter-ai-magics[all]; extra == \"all\"->jupyter-ai[all]) (0.10.2)\n",
      "Requirement already satisfied: tqdm in /home/ec2-user/anaconda3/envs/python3/lib/python3.10/site-packages (from gpt4all->jupyter-ai-magics[all]; extra == \"all\"->jupyter-ai[all]) (4.66.4)\n",
      "Requirement already satisfied: filelock in /home/ec2-user/anaconda3/envs/python3/lib/python3.10/site-packages (from huggingface-hub->jupyter-ai-magics[all]; extra == \"all\"->jupyter-ai[all]) (3.15.4)\n",
      "Requirement already satisfied: decorator in /home/ec2-user/anaconda3/envs/python3/lib/python3.10/site-packages (from ipython->jupyterlab<4,>=3.5->jupyter-ai[all]) (5.1.1)\n",
      "Requirement already satisfied: jedi>=0.16 in /home/ec2-user/anaconda3/envs/python3/lib/python3.10/site-packages (from ipython->jupyterlab<4,>=3.5->jupyter-ai[all]) (0.18.2)\n",
      "Requirement already satisfied: matplotlib-inline in /home/ec2-user/anaconda3/envs/python3/lib/python3.10/site-packages (from ipython->jupyterlab<4,>=3.5->jupyter-ai[all]) (0.1.7)\n",
      "Requirement already satisfied: prompt-toolkit<3.1.0,>=3.0.41 in /home/ec2-user/anaconda3/envs/python3/lib/python3.10/site-packages (from ipython->jupyterlab<4,>=3.5->jupyter-ai[all]) (3.0.47)\n",
      "Requirement already satisfied: stack-data in /home/ec2-user/anaconda3/envs/python3/lib/python3.10/site-packages (from ipython->jupyterlab<4,>=3.5->jupyter-ai[all]) (0.6.2)\n",
      "Requirement already satisfied: pexpect>4.3 in /home/ec2-user/anaconda3/envs/python3/lib/python3.10/site-packages (from ipython->jupyterlab<4,>=3.5->jupyter-ai[all]) (4.9.0)\n",
      "Requirement already satisfied: comm>=0.1.3 in /home/ec2-user/anaconda3/envs/python3/lib/python3.10/site-packages (from ipywidgets->jupyter-ai-magics[all]; extra == \"all\"->jupyter-ai[all]) (0.2.2)\n",
      "Requirement already satisfied: widgetsnbextension~=4.0.11 in /home/ec2-user/anaconda3/envs/python3/lib/python3.10/site-packages (from ipywidgets->jupyter-ai-magics[all]; extra == \"all\"->jupyter-ai[all]) (4.0.11)\n",
      "Requirement already satisfied: jupyterlab-widgets~=3.0.11 in /home/ec2-user/anaconda3/envs/python3/lib/python3.10/site-packages (from ipywidgets->jupyter-ai-magics[all]; extra == \"all\"->jupyter-ai[all]) (3.0.11)\n",
      "Requirement already satisfied: anthropic<1,>=0.30.0 in /home/ec2-user/anaconda3/envs/python3/lib/python3.10/site-packages (from langchain-anthropic->jupyter-ai-magics[all]; extra == \"all\"->jupyter-ai[all]) (0.36.0)\n",
      "Requirement already satisfied: cohere<6.0,>=5.5.6 in /home/ec2-user/anaconda3/envs/python3/lib/python3.10/site-packages (from langchain-cohere->jupyter-ai-magics[all]; extra == \"all\"->jupyter-ai[all]) (5.11.0)\n",
      "Requirement already satisfied: langchain-experimental>=0.0.6 in /home/ec2-user/anaconda3/envs/python3/lib/python3.10/site-packages (from langchain-cohere->jupyter-ai-magics[all]; extra == \"all\"->jupyter-ai[all]) (0.0.65)\n",
      "Requirement already satisfied: pandas>=1.4.3 in /home/ec2-user/anaconda3/envs/python3/lib/python3.10/site-packages (from langchain-cohere->jupyter-ai-magics[all]; extra == \"all\"->jupyter-ai[all]) (2.2.2)\n",
      "Requirement already satisfied: tabulate<0.10.0,>=0.9.0 in /home/ec2-user/anaconda3/envs/python3/lib/python3.10/site-packages (from langchain-cohere->jupyter-ai-magics[all]; extra == \"all\"->jupyter-ai[all]) (0.9.0)\n",
      "Requirement already satisfied: google-generativeai<0.8.0,>=0.7.0 in /home/ec2-user/anaconda3/envs/python3/lib/python3.10/site-packages (from langchain-google-genai->jupyter-ai-magics[all]; extra == \"all\"->jupyter-ai[all]) (0.7.2)\n",
      "Requirement already satisfied: httpx-sse<1,>=0.3.1 in /home/ec2-user/anaconda3/envs/python3/lib/python3.10/site-packages (from langchain-mistralai->jupyter-ai-magics[all]; extra == \"all\"->jupyter-ai[all]) (0.4.0)\n",
      "Requirement already satisfied: tokenizers<1,>=0.15.1 in /home/ec2-user/anaconda3/envs/python3/lib/python3.10/site-packages (from langchain-mistralai->jupyter-ai-magics[all]; extra == \"all\"->jupyter-ai[all]) (0.20.0)\n",
      "Requirement already satisfied: ollama<1,>=0.3.0 in /home/ec2-user/anaconda3/envs/python3/lib/python3.10/site-packages (from langchain-ollama->jupyter-ai-magics[all]; extra == \"all\"->jupyter-ai[all]) (0.3.3)\n",
      "Requirement already satisfied: openai<2.0.0,>=1.40.0 in /home/ec2-user/anaconda3/envs/python3/lib/python3.10/site-packages (from langchain-openai->jupyter-ai-magics[all]; extra == \"all\"->jupyter-ai[all]) (1.51.2)\n",
      "Requirement already satisfied: tiktoken<1,>=0.7 in /home/ec2-user/anaconda3/envs/python3/lib/python3.10/site-packages (from langchain-openai->jupyter-ai-magics[all]; extra == \"all\"->jupyter-ai[all]) (0.8.0)\n",
      "Requirement already satisfied: aiolimiter>=1.1.0 in /home/ec2-user/anaconda3/envs/python3/lib/python3.10/site-packages (from qianfan->jupyter-ai-magics[all]; extra == \"all\"->jupyter-ai[all]) (1.1.0)\n",
      "Requirement already satisfied: bce-python-sdk>=0.8.79 in /home/ec2-user/anaconda3/envs/python3/lib/python3.10/site-packages (from qianfan->jupyter-ai-magics[all]; extra == \"all\"->jupyter-ai[all]) (0.9.23)\n",
      "Requirement already satisfied: cachetools>=5.0.0 in /home/ec2-user/anaconda3/envs/python3/lib/python3.10/site-packages (from qianfan->jupyter-ai-magics[all]; extra == \"all\"->jupyter-ai[all]) (5.5.0)\n",
      "Requirement already satisfied: diskcache>=5.6.3 in /home/ec2-user/anaconda3/envs/python3/lib/python3.10/site-packages (from qianfan->jupyter-ai-magics[all]; extra == \"all\"->jupyter-ai[all]) (5.6.3)\n",
      "Requirement already satisfied: multiprocess>=0.70.12 in /home/ec2-user/anaconda3/envs/python3/lib/python3.10/site-packages (from qianfan->jupyter-ai-magics[all]; extra == \"all\"->jupyter-ai[all]) (0.70.16)\n",
      "Requirement already satisfied: python-dotenv>=1.0 in /home/ec2-user/anaconda3/envs/python3/lib/python3.10/site-packages (from qianfan->jupyter-ai-magics[all]; extra == \"all\"->jupyter-ai[all]) (1.0.1)\n",
      "Requirement already satisfied: rich>=13.0.0 in /home/ec2-user/anaconda3/envs/python3/lib/python3.10/site-packages (from qianfan->jupyter-ai-magics[all]; extra == \"all\"->jupyter-ai[all]) (13.9.2)\n",
      "Requirement already satisfied: typer>=0.9.0 in /home/ec2-user/anaconda3/envs/python3/lib/python3.10/site-packages (from qianfan->jupyter-ai-magics[all]; extra == \"all\"->jupyter-ai[all]) (0.12.5)\n",
      "Requirement already satisfied: eval-type-backport<0.3.0,>=0.1.3 in /home/ec2-user/anaconda3/envs/python3/lib/python3.10/site-packages (from together->jupyter-ai-magics[all]; extra == \"all\"->jupyter-ai[all]) (0.2.0)\n",
      "Requirement already satisfied: pyarrow>=10.0.1 in /home/ec2-user/anaconda3/envs/python3/lib/python3.10/site-packages (from together->jupyter-ai-magics[all]; extra == \"all\"->jupyter-ai[all]) (17.0.0)\n",
      "Requirement already satisfied: sentencepiece<1.0.0,>=0.2.0 in /home/ec2-user/anaconda3/envs/python3/lib/python3.10/site-packages (from ai21-tokenizer<1.0.0,>=0.12.0->ai21->jupyter-ai-magics[all]; extra == \"all\"->jupyter-ai[all]) (0.2.0)\n",
      "Requirement already satisfied: aiosignal>=1.1.2 in /home/ec2-user/anaconda3/envs/python3/lib/python3.10/site-packages (from aiohttp<4.0.0,>=3.8.3->langchain<0.3.0,>=0.1.0->jupyter-ai-magics->jupyter-ai[all]) (1.3.1)\n",
      "Requirement already satisfied: attrs>=17.3.0 in /home/ec2-user/anaconda3/envs/python3/lib/python3.10/site-packages (from aiohttp<4.0.0,>=3.8.3->langchain<0.3.0,>=0.1.0->jupyter-ai-magics->jupyter-ai[all]) (23.2.0)\n",
      "Requirement already satisfied: frozenlist>=1.1.1 in /home/ec2-user/anaconda3/envs/python3/lib/python3.10/site-packages (from aiohttp<4.0.0,>=3.8.3->langchain<0.3.0,>=0.1.0->jupyter-ai-magics->jupyter-ai[all]) (1.4.1)\n",
      "Requirement already satisfied: multidict<7.0,>=4.5 in /home/ec2-user/anaconda3/envs/python3/lib/python3.10/site-packages (from aiohttp<4.0.0,>=3.8.3->langchain<0.3.0,>=0.1.0->jupyter-ai-magics->jupyter-ai[all]) (6.0.5)\n",
      "Requirement already satisfied: yarl<2.0,>=1.0 in /home/ec2-user/anaconda3/envs/python3/lib/python3.10/site-packages (from aiohttp<4.0.0,>=3.8.3->langchain<0.3.0,>=0.1.0->jupyter-ai-magics->jupyter-ai[all]) (1.9.4)\n",
      "Requirement already satisfied: distro<2,>=1.7.0 in /home/ec2-user/anaconda3/envs/python3/lib/python3.10/site-packages (from anthropic<1,>=0.30.0->langchain-anthropic->jupyter-ai-magics[all]; extra == \"all\"->jupyter-ai[all]) (1.9.0)\n",
      "Requirement already satisfied: jiter<1,>=0.4.0 in /home/ec2-user/anaconda3/envs/python3/lib/python3.10/site-packages (from anthropic<1,>=0.30.0->langchain-anthropic->jupyter-ai-magics[all]; extra == \"all\"->jupyter-ai[all]) (0.6.1)\n",
      "Requirement already satisfied: pycryptodome>=3.8.0 in /home/ec2-user/anaconda3/envs/python3/lib/python3.10/site-packages (from bce-python-sdk>=0.8.79->qianfan->jupyter-ai-magics[all]; extra == \"all\"->jupyter-ai[all]) (3.20.0)\n",
      "Requirement already satisfied: future>=0.6.0 in /home/ec2-user/anaconda3/envs/python3/lib/python3.10/site-packages (from bce-python-sdk>=0.8.79->qianfan->jupyter-ai-magics[all]; extra == \"all\"->jupyter-ai[all]) (1.0.0)\n",
      "Requirement already satisfied: six>=1.4.0 in /home/ec2-user/anaconda3/envs/python3/lib/python3.10/site-packages (from bce-python-sdk>=0.8.79->qianfan->jupyter-ai-magics[all]; extra == \"all\"->jupyter-ai[all]) (1.16.0)\n",
      "Requirement already satisfied: webencodings in /home/ec2-user/anaconda3/envs/python3/lib/python3.10/site-packages (from bleach!=5.0.0->nbconvert>=6.4.4->jupyter-server<3,>=1.6->jupyter-ai[all]) (0.5.1)\n",
      "Requirement already satisfied: fastavro<2.0.0,>=1.9.4 in /home/ec2-user/anaconda3/envs/python3/lib/python3.10/site-packages (from cohere<6.0,>=5.5.6->langchain-cohere->jupyter-ai-magics[all]; extra == \"all\"->jupyter-ai[all]) (1.9.7)\n",
      "Requirement already satisfied: parameterized<0.10.0,>=0.9.0 in /home/ec2-user/anaconda3/envs/python3/lib/python3.10/site-packages (from cohere<6.0,>=5.5.6->langchain-cohere->jupyter-ai-magics[all]; extra == \"all\"->jupyter-ai[all]) (0.9.0)\n",
      "Requirement already satisfied: pydantic-core<3.0.0,>=2.18.2 in /home/ec2-user/anaconda3/envs/python3/lib/python3.10/site-packages (from cohere<6.0,>=5.5.6->langchain-cohere->jupyter-ai-magics[all]; extra == \"all\"->jupyter-ai[all]) (2.23.3)\n",
      "Requirement already satisfied: sagemaker<3.0.0,>=2.232.1 in /home/ec2-user/anaconda3/envs/python3/lib/python3.10/site-packages (from cohere<6.0,>=5.5.6->langchain-cohere->jupyter-ai-magics[all]; extra == \"all\"->jupyter-ai[all]) (2.232.2)\n",
      "Requirement already satisfied: types-requests<3.0.0,>=2.0.0 in /home/ec2-user/anaconda3/envs/python3/lib/python3.10/site-packages (from cohere<6.0,>=5.5.6->langchain-cohere->jupyter-ai-magics[all]; extra == \"all\"->jupyter-ai[all]) (2.32.0.20240914)\n",
      "Requirement already satisfied: marshmallow<4.0.0,>=3.18.0 in /home/ec2-user/anaconda3/envs/python3/lib/python3.10/site-packages (from dataclasses-json<0.7,>=0.5.7->langchain-community<0.3.0,>=0.1.0->jupyter-ai-magics->jupyter-ai[all]) (3.22.0)\n",
      "Requirement already satisfied: typing-inspect<1,>=0.4.0 in /home/ec2-user/anaconda3/envs/python3/lib/python3.10/site-packages (from dataclasses-json<0.7,>=0.5.7->langchain-community<0.3.0,>=0.1.0->jupyter-ai-magics->jupyter-ai[all]) (0.9.0)\n",
      "Requirement already satisfied: google-ai-generativelanguage==0.6.6 in /home/ec2-user/anaconda3/envs/python3/lib/python3.10/site-packages (from google-generativeai<0.8.0,>=0.7.0->langchain-google-genai->jupyter-ai-magics[all]; extra == \"all\"->jupyter-ai[all]) (0.6.6)\n",
      "Requirement already satisfied: google-api-core in /home/ec2-user/anaconda3/envs/python3/lib/python3.10/site-packages (from google-generativeai<0.8.0,>=0.7.0->langchain-google-genai->jupyter-ai-magics[all]; extra == \"all\"->jupyter-ai[all]) (2.21.0)\n",
      "Requirement already satisfied: google-api-python-client in /home/ec2-user/anaconda3/envs/python3/lib/python3.10/site-packages (from google-generativeai<0.8.0,>=0.7.0->langchain-google-genai->jupyter-ai-magics[all]; extra == \"all\"->jupyter-ai[all]) (2.149.0)\n",
      "Requirement already satisfied: google-auth>=2.15.0 in /home/ec2-user/anaconda3/envs/python3/lib/python3.10/site-packages (from google-generativeai<0.8.0,>=0.7.0->langchain-google-genai->jupyter-ai-magics[all]; extra == \"all\"->jupyter-ai[all]) (2.35.0)\n",
      "Requirement already satisfied: protobuf in /home/ec2-user/anaconda3/envs/python3/lib/python3.10/site-packages (from google-generativeai<0.8.0,>=0.7.0->langchain-google-genai->jupyter-ai-magics[all]; extra == \"all\"->jupyter-ai[all]) (4.25.4)\n",
      "Requirement already satisfied: proto-plus<2.0.0dev,>=1.22.3 in /home/ec2-user/anaconda3/envs/python3/lib/python3.10/site-packages (from google-ai-generativelanguage==0.6.6->google-generativeai<0.8.0,>=0.7.0->langchain-google-genai->jupyter-ai-magics[all]; extra == \"all\"->jupyter-ai[all]) (1.24.0)\n",
      "Requirement already satisfied: certifi in /home/ec2-user/anaconda3/envs/python3/lib/python3.10/site-packages (from httpx<0.28.0,>=0.27.0->ai21->jupyter-ai-magics[all]; extra == \"all\"->jupyter-ai[all]) (2024.7.4)\n",
      "Requirement already satisfied: httpcore==1.* in /home/ec2-user/anaconda3/envs/python3/lib/python3.10/site-packages (from httpx<0.28.0,>=0.27.0->ai21->jupyter-ai-magics[all]; extra == \"all\"->jupyter-ai[all]) (1.0.5)\n",
      "Requirement already satisfied: h11<0.15,>=0.13 in /home/ec2-user/anaconda3/envs/python3/lib/python3.10/site-packages (from httpcore==1.*->httpx<0.28.0,>=0.27.0->ai21->jupyter-ai-magics[all]; extra == \"all\"->jupyter-ai[all]) (0.14.0)\n",
      "Requirement already satisfied: parso<0.9.0,>=0.8.0 in /home/ec2-user/anaconda3/envs/python3/lib/python3.10/site-packages (from jedi>=0.16->ipython->jupyterlab<4,>=3.5->jupyter-ai[all]) (0.8.4)\n",
      "Requirement already satisfied: jsonschema-specifications>=2023.03.6 in /home/ec2-user/anaconda3/envs/python3/lib/python3.10/site-packages (from jsonschema>=4.18.0->jsonschema[format-nongpl]>=4.18.0->jupyter-events>=0.9.0->jupyter-server<3,>=1.6->jupyter-ai[all]) (2023.12.1)\n",
      "Requirement already satisfied: rpds-py>=0.7.1 in /home/ec2-user/anaconda3/envs/python3/lib/python3.10/site-packages (from jsonschema>=4.18.0->jsonschema[format-nongpl]>=4.18.0->jupyter-events>=0.9.0->jupyter-server<3,>=1.6->jupyter-ai[all]) (0.19.1)\n",
      "Requirement already satisfied: fqdn in /home/ec2-user/anaconda3/envs/python3/lib/python3.10/site-packages (from jsonschema[format-nongpl]>=4.18.0->jupyter-events>=0.9.0->jupyter-server<3,>=1.6->jupyter-ai[all]) (1.5.1)\n",
      "Requirement already satisfied: isoduration in /home/ec2-user/anaconda3/envs/python3/lib/python3.10/site-packages (from jsonschema[format-nongpl]>=4.18.0->jupyter-events>=0.9.0->jupyter-server<3,>=1.6->jupyter-ai[all]) (20.11.0)\n",
      "Requirement already satisfied: jsonpointer>1.13 in /home/ec2-user/anaconda3/envs/python3/lib/python3.10/site-packages (from jsonschema[format-nongpl]>=4.18.0->jupyter-events>=0.9.0->jupyter-server<3,>=1.6->jupyter-ai[all]) (3.0.0)\n",
      "Requirement already satisfied: uri-template in /home/ec2-user/anaconda3/envs/python3/lib/python3.10/site-packages (from jsonschema[format-nongpl]>=4.18.0->jupyter-events>=0.9.0->jupyter-server<3,>=1.6->jupyter-ai[all]) (1.3.0)\n",
      "Requirement already satisfied: webcolors>=24.6.0 in /home/ec2-user/anaconda3/envs/python3/lib/python3.10/site-packages (from jsonschema[format-nongpl]>=4.18.0->jupyter-events>=0.9.0->jupyter-server<3,>=1.6->jupyter-ai[all]) (24.6.0)\n",
      "Requirement already satisfied: jsonpatch<2.0,>=1.33 in /home/ec2-user/anaconda3/envs/python3/lib/python3.10/site-packages (from langchain-core<0.3.0,>=0.2.38->langchain<0.3.0,>=0.1.0->jupyter-ai-magics->jupyter-ai[all]) (1.33)\n",
      "Requirement already satisfied: orjson<4.0.0,>=3.9.14 in /home/ec2-user/anaconda3/envs/python3/lib/python3.10/site-packages (from langsmith<0.2.0,>=0.1.17->langchain<0.3.0,>=0.1.0->jupyter-ai-magics->jupyter-ai[all]) (3.10.7)\n",
      "Requirement already satisfied: requests-toolbelt<2.0.0,>=1.0.0 in /home/ec2-user/anaconda3/envs/python3/lib/python3.10/site-packages (from langsmith<0.2.0,>=0.1.17->langchain<0.3.0,>=0.1.0->jupyter-ai-magics->jupyter-ai[all]) (1.0.0)\n",
      "Requirement already satisfied: dill>=0.3.8 in /home/ec2-user/anaconda3/envs/python3/lib/python3.10/site-packages (from multiprocess>=0.70.12->qianfan->jupyter-ai-magics[all]; extra == \"all\"->jupyter-ai[all]) (0.3.8)\n",
      "Requirement already satisfied: pytz>=2020.1 in /home/ec2-user/anaconda3/envs/python3/lib/python3.10/site-packages (from pandas>=1.4.3->langchain-cohere->jupyter-ai-magics[all]; extra == \"all\"->jupyter-ai[all]) (2024.1)\n",
      "Requirement already satisfied: tzdata>=2022.7 in /home/ec2-user/anaconda3/envs/python3/lib/python3.10/site-packages (from pandas>=1.4.3->langchain-cohere->jupyter-ai-magics[all]; extra == \"all\"->jupyter-ai[all]) (2024.1)\n",
      "Requirement already satisfied: wcwidth in /home/ec2-user/anaconda3/envs/python3/lib/python3.10/site-packages (from prompt-toolkit<3.1.0,>=3.0.41->ipython->jupyterlab<4,>=3.5->jupyter-ai[all]) (0.2.13)\n",
      "Requirement already satisfied: annotated-types>=0.6.0 in /home/ec2-user/anaconda3/envs/python3/lib/python3.10/site-packages (from pydantic<3,>=1->langchain<0.3.0,>=0.1.0->jupyter-ai-magics->jupyter-ai[all]) (0.7.0)\n",
      "Requirement already satisfied: charset-normalizer<4,>=2 in /home/ec2-user/anaconda3/envs/python3/lib/python3.10/site-packages (from requests>=2.31->jupyterlab-server~=2.19->jupyterlab<4,>=3.5->jupyter-ai[all]) (3.3.2)\n",
      "Requirement already satisfied: markdown-it-py>=2.2.0 in /home/ec2-user/anaconda3/envs/python3/lib/python3.10/site-packages (from rich>=13.0.0->qianfan->jupyter-ai-magics[all]; extra == \"all\"->jupyter-ai[all]) (3.0.0)\n",
      "Requirement already satisfied: greenlet!=0.4.17 in /home/ec2-user/anaconda3/envs/python3/lib/python3.10/site-packages (from SQLAlchemy<3,>=1.4->langchain<0.3.0,>=0.1.0->jupyter-ai-magics->jupyter-ai[all]) (3.0.3)\n",
      "Requirement already satisfied: regex>=2022.1.18 in /home/ec2-user/anaconda3/envs/python3/lib/python3.10/site-packages (from tiktoken<1,>=0.7->langchain-openai->jupyter-ai-magics[all]; extra == \"all\"->jupyter-ai[all]) (2024.7.24)\n",
      "Requirement already satisfied: shellingham>=1.3.0 in /home/ec2-user/anaconda3/envs/python3/lib/python3.10/site-packages (from typer>=0.9.0->qianfan->jupyter-ai-magics[all]; extra == \"all\"->jupyter-ai[all]) (1.5.4)\n",
      "Requirement already satisfied: aiofiles<23,>=22.1.0 in /home/ec2-user/anaconda3/envs/python3/lib/python3.10/site-packages (from ypy-websocket<0.9.0,>=0.8.2->jupyter-server-ydoc~=0.8.0->jupyterlab<4,>=3.5->jupyter-ai[all]) (22.1.0)\n",
      "Requirement already satisfied: cffi>=1.0.1 in /home/ec2-user/anaconda3/envs/python3/lib/python3.10/site-packages (from argon2-cffi-bindings->argon2-cffi>=21.1->jupyter-server<3,>=1.6->jupyter-ai[all]) (1.16.0)\n",
      "Requirement already satisfied: soupsieve>1.2 in /home/ec2-user/anaconda3/envs/python3/lib/python3.10/site-packages (from beautifulsoup4->nbconvert>=6.4.4->jupyter-server<3,>=1.6->jupyter-ai[all]) (2.5)\n",
      "Requirement already satisfied: debugpy>=1.6.5 in /home/ec2-user/anaconda3/envs/python3/lib/python3.10/site-packages (from ipykernel->notebook<7->jupyterlab<4,>=3.5->jupyter-ai[all]) (1.8.2)\n",
      "Requirement already satisfied: executing>=1.2.0 in /home/ec2-user/anaconda3/envs/python3/lib/python3.10/site-packages (from stack-data->ipython->jupyterlab<4,>=3.5->jupyter-ai[all]) (2.0.1)\n",
      "Requirement already satisfied: asttokens>=2.1.0 in /home/ec2-user/anaconda3/envs/python3/lib/python3.10/site-packages (from stack-data->ipython->jupyterlab<4,>=3.5->jupyter-ai[all]) (2.4.1)\n",
      "Requirement already satisfied: pure-eval in /home/ec2-user/anaconda3/envs/python3/lib/python3.10/site-packages (from stack-data->ipython->jupyterlab<4,>=3.5->jupyter-ai[all]) (0.2.3)\n",
      "Requirement already satisfied: pycparser in /home/ec2-user/anaconda3/envs/python3/lib/python3.10/site-packages (from cffi>=1.0.1->argon2-cffi-bindings->argon2-cffi>=21.1->jupyter-server<3,>=1.6->jupyter-ai[all]) (2.22)\n",
      "Requirement already satisfied: googleapis-common-protos<2.0.dev0,>=1.56.2 in /home/ec2-user/anaconda3/envs/python3/lib/python3.10/site-packages (from google-api-core->google-generativeai<0.8.0,>=0.7.0->langchain-google-genai->jupyter-ai-magics[all]; extra == \"all\"->jupyter-ai[all]) (1.65.0)\n",
      "Requirement already satisfied: pyasn1-modules>=0.2.1 in /home/ec2-user/anaconda3/envs/python3/lib/python3.10/site-packages (from google-auth>=2.15.0->google-generativeai<0.8.0,>=0.7.0->langchain-google-genai->jupyter-ai-magics[all]; extra == \"all\"->jupyter-ai[all]) (0.4.1)\n",
      "Requirement already satisfied: rsa<5,>=3.1.4 in /home/ec2-user/anaconda3/envs/python3/lib/python3.10/site-packages (from google-auth>=2.15.0->google-generativeai<0.8.0,>=0.7.0->langchain-google-genai->jupyter-ai-magics[all]; extra == \"all\"->jupyter-ai[all]) (4.7.2)\n",
      "Requirement already satisfied: mdurl~=0.1 in /home/ec2-user/anaconda3/envs/python3/lib/python3.10/site-packages (from markdown-it-py>=2.2.0->rich>=13.0.0->qianfan->jupyter-ai-magics[all]; extra == \"all\"->jupyter-ai[all]) (0.1.2)\n",
      "Requirement already satisfied: docker in /home/ec2-user/anaconda3/envs/python3/lib/python3.10/site-packages (from sagemaker<3.0.0,>=2.232.1->cohere<6.0,>=5.5.6->langchain-cohere->jupyter-ai-magics[all]; extra == \"all\"->jupyter-ai[all]) (7.1.0)\n",
      "Requirement already satisfied: google-pasta in /home/ec2-user/anaconda3/envs/python3/lib/python3.10/site-packages (from sagemaker<3.0.0,>=2.232.1->cohere<6.0,>=5.5.6->langchain-cohere->jupyter-ai-magics[all]; extra == \"all\"->jupyter-ai[all]) (0.2.0)\n",
      "Requirement already satisfied: pathos in /home/ec2-user/anaconda3/envs/python3/lib/python3.10/site-packages (from sagemaker<3.0.0,>=2.232.1->cohere<6.0,>=5.5.6->langchain-cohere->jupyter-ai-magics[all]; extra == \"all\"->jupyter-ai[all]) (0.3.2)\n",
      "Requirement already satisfied: sagemaker-core<2.0.0,>=1.0.0 in /home/ec2-user/anaconda3/envs/python3/lib/python3.10/site-packages (from sagemaker<3.0.0,>=2.232.1->cohere<6.0,>=5.5.6->langchain-cohere->jupyter-ai-magics[all]; extra == \"all\"->jupyter-ai[all]) (1.0.4)\n",
      "Requirement already satisfied: sagemaker-mlflow in /home/ec2-user/anaconda3/envs/python3/lib/python3.10/site-packages (from sagemaker<3.0.0,>=2.232.1->cohere<6.0,>=5.5.6->langchain-cohere->jupyter-ai-magics[all]; extra == \"all\"->jupyter-ai[all]) (0.1.0)\n",
      "Requirement already satisfied: schema in /home/ec2-user/anaconda3/envs/python3/lib/python3.10/site-packages (from sagemaker<3.0.0,>=2.232.1->cohere<6.0,>=5.5.6->langchain-cohere->jupyter-ai-magics[all]; extra == \"all\"->jupyter-ai[all]) (0.7.7)\n",
      "Requirement already satisfied: smdebug-rulesconfig==1.0.1 in /home/ec2-user/anaconda3/envs/python3/lib/python3.10/site-packages (from sagemaker<3.0.0,>=2.232.1->cohere<6.0,>=5.5.6->langchain-cohere->jupyter-ai-magics[all]; extra == \"all\"->jupyter-ai[all]) (1.0.1)\n",
      "Requirement already satisfied: mypy-extensions>=0.3.0 in /home/ec2-user/anaconda3/envs/python3/lib/python3.10/site-packages (from typing-inspect<1,>=0.4.0->dataclasses-json<0.7,>=0.5.7->langchain-community<0.3.0,>=0.1.0->jupyter-ai-magics->jupyter-ai[all]) (1.0.0)\n",
      "Requirement already satisfied: httplib2<1.dev0,>=0.19.0 in /home/ec2-user/anaconda3/envs/python3/lib/python3.10/site-packages (from google-api-python-client->google-generativeai<0.8.0,>=0.7.0->langchain-google-genai->jupyter-ai-magics[all]; extra == \"all\"->jupyter-ai[all]) (0.22.0)\n",
      "Requirement already satisfied: google-auth-httplib2<1.0.0,>=0.2.0 in /home/ec2-user/anaconda3/envs/python3/lib/python3.10/site-packages (from google-api-python-client->google-generativeai<0.8.0,>=0.7.0->langchain-google-genai->jupyter-ai-magics[all]; extra == \"all\"->jupyter-ai[all]) (0.2.0)\n",
      "Requirement already satisfied: uritemplate<5,>=3.0.1 in /home/ec2-user/anaconda3/envs/python3/lib/python3.10/site-packages (from google-api-python-client->google-generativeai<0.8.0,>=0.7.0->langchain-google-genai->jupyter-ai-magics[all]; extra == \"all\"->jupyter-ai[all]) (4.1.1)\n",
      "Requirement already satisfied: arrow>=0.15.0 in /home/ec2-user/anaconda3/envs/python3/lib/python3.10/site-packages (from isoduration->jsonschema[format-nongpl]>=4.18.0->jupyter-events>=0.9.0->jupyter-server<3,>=1.6->jupyter-ai[all]) (1.3.0)\n",
      "Requirement already satisfied: types-python-dateutil>=2.8.10 in /home/ec2-user/anaconda3/envs/python3/lib/python3.10/site-packages (from arrow>=0.15.0->isoduration->jsonschema[format-nongpl]>=4.18.0->jupyter-events>=0.9.0->jupyter-server<3,>=1.6->jupyter-ai[all]) (2.9.0.20240316)\n",
      "Requirement already satisfied: grpcio<2.0dev,>=1.33.2 in /home/ec2-user/anaconda3/envs/python3/lib/python3.10/site-packages (from google-api-core[grpc]!=2.0.*,!=2.1.*,!=2.10.*,!=2.2.*,!=2.3.*,!=2.4.*,!=2.5.*,!=2.6.*,!=2.7.*,!=2.8.*,!=2.9.*,<3.0.0dev,>=1.34.1->google-ai-generativelanguage==0.6.6->google-generativeai<0.8.0,>=0.7.0->langchain-google-genai->jupyter-ai-magics[all]; extra == \"all\"->jupyter-ai[all]) (1.66.2)\n",
      "Requirement already satisfied: grpcio-status<2.0.dev0,>=1.33.2 in /home/ec2-user/anaconda3/envs/python3/lib/python3.10/site-packages (from google-api-core[grpc]!=2.0.*,!=2.1.*,!=2.10.*,!=2.2.*,!=2.3.*,!=2.4.*,!=2.5.*,!=2.6.*,!=2.7.*,!=2.8.*,!=2.9.*,<3.0.0dev,>=1.34.1->google-ai-generativelanguage==0.6.6->google-generativeai<0.8.0,>=0.7.0->langchain-google-genai->jupyter-ai-magics[all]; extra == \"all\"->jupyter-ai[all]) (1.62.3)\n",
      "Requirement already satisfied: pyparsing!=3.0.0,!=3.0.1,!=3.0.2,!=3.0.3,<4,>=2.4.2 in /home/ec2-user/anaconda3/envs/python3/lib/python3.10/site-packages (from httplib2<1.dev0,>=0.19.0->google-api-python-client->google-generativeai<0.8.0,>=0.7.0->langchain-google-genai->jupyter-ai-magics[all]; extra == \"all\"->jupyter-ai[all]) (3.1.2)\n",
      "Requirement already satisfied: pyasn1<0.7.0,>=0.4.6 in /home/ec2-user/anaconda3/envs/python3/lib/python3.10/site-packages (from pyasn1-modules>=0.2.1->google-auth>=2.15.0->google-generativeai<0.8.0,>=0.7.0->langchain-google-genai->jupyter-ai-magics[all]; extra == \"all\"->jupyter-ai[all]) (0.6.1)\n",
      "Requirement already satisfied: mock<5.0,>4.0 in /home/ec2-user/anaconda3/envs/python3/lib/python3.10/site-packages (from sagemaker-core<2.0.0,>=1.0.0->sagemaker<3.0.0,>=2.232.1->cohere<6.0,>=5.5.6->langchain-cohere->jupyter-ai-magics[all]; extra == \"all\"->jupyter-ai[all]) (4.0.3)\n",
      "Requirement already satisfied: ppft>=1.7.6.8 in /home/ec2-user/anaconda3/envs/python3/lib/python3.10/site-packages (from pathos->sagemaker<3.0.0,>=2.232.1->cohere<6.0,>=5.5.6->langchain-cohere->jupyter-ai-magics[all]; extra == \"all\"->jupyter-ai[all]) (1.7.6.8)\n",
      "Requirement already satisfied: pox>=0.3.4 in /home/ec2-user/anaconda3/envs/python3/lib/python3.10/site-packages (from pathos->sagemaker<3.0.0,>=2.232.1->cohere<6.0,>=5.5.6->langchain-cohere->jupyter-ai-magics[all]; extra == \"all\"->jupyter-ai[all]) (0.3.4)\n",
      "Requirement already satisfied: mlflow>=2.8 in /home/ec2-user/anaconda3/envs/python3/lib/python3.10/site-packages (from sagemaker-mlflow->sagemaker<3.0.0,>=2.232.1->cohere<6.0,>=5.5.6->langchain-cohere->jupyter-ai-magics[all]; extra == \"all\"->jupyter-ai[all]) (2.16.2)\n",
      "Requirement already satisfied: mlflow-skinny==2.16.2 in /home/ec2-user/anaconda3/envs/python3/lib/python3.10/site-packages (from mlflow>=2.8->sagemaker-mlflow->sagemaker<3.0.0,>=2.232.1->cohere<6.0,>=5.5.6->langchain-cohere->jupyter-ai-magics[all]; extra == \"all\"->jupyter-ai[all]) (2.16.2)\n",
      "Requirement already satisfied: Flask<4 in /home/ec2-user/anaconda3/envs/python3/lib/python3.10/site-packages (from mlflow>=2.8->sagemaker-mlflow->sagemaker<3.0.0,>=2.232.1->cohere<6.0,>=5.5.6->langchain-cohere->jupyter-ai-magics[all]; extra == \"all\"->jupyter-ai[all]) (3.0.3)\n",
      "Requirement already satisfied: alembic!=1.10.0,<2 in /home/ec2-user/anaconda3/envs/python3/lib/python3.10/site-packages (from mlflow>=2.8->sagemaker-mlflow->sagemaker<3.0.0,>=2.232.1->cohere<6.0,>=5.5.6->langchain-cohere->jupyter-ai-magics[all]; extra == \"all\"->jupyter-ai[all]) (1.13.3)\n",
      "Requirement already satisfied: graphene<4 in /home/ec2-user/anaconda3/envs/python3/lib/python3.10/site-packages (from mlflow>=2.8->sagemaker-mlflow->sagemaker<3.0.0,>=2.232.1->cohere<6.0,>=5.5.6->langchain-cohere->jupyter-ai-magics[all]; extra == \"all\"->jupyter-ai[all]) (3.3)\n",
      "Requirement already satisfied: markdown<4,>=3.3 in /home/ec2-user/anaconda3/envs/python3/lib/python3.10/site-packages (from mlflow>=2.8->sagemaker-mlflow->sagemaker<3.0.0,>=2.232.1->cohere<6.0,>=5.5.6->langchain-cohere->jupyter-ai-magics[all]; extra == \"all\"->jupyter-ai[all]) (3.7)\n",
      "Requirement already satisfied: matplotlib<4 in /home/ec2-user/anaconda3/envs/python3/lib/python3.10/site-packages (from mlflow>=2.8->sagemaker-mlflow->sagemaker<3.0.0,>=2.232.1->cohere<6.0,>=5.5.6->langchain-cohere->jupyter-ai-magics[all]; extra == \"all\"->jupyter-ai[all]) (3.8.4)\n",
      "Requirement already satisfied: scikit-learn<2 in /home/ec2-user/anaconda3/envs/python3/lib/python3.10/site-packages (from mlflow>=2.8->sagemaker-mlflow->sagemaker<3.0.0,>=2.232.1->cohere<6.0,>=5.5.6->langchain-cohere->jupyter-ai-magics[all]; extra == \"all\"->jupyter-ai[all]) (1.5.1)\n",
      "Requirement already satisfied: scipy<2 in /home/ec2-user/anaconda3/envs/python3/lib/python3.10/site-packages (from mlflow>=2.8->sagemaker-mlflow->sagemaker<3.0.0,>=2.232.1->cohere<6.0,>=5.5.6->langchain-cohere->jupyter-ai-magics[all]; extra == \"all\"->jupyter-ai[all]) (1.14.0)\n",
      "Requirement already satisfied: gunicorn<24 in /home/ec2-user/anaconda3/envs/python3/lib/python3.10/site-packages (from mlflow>=2.8->sagemaker-mlflow->sagemaker<3.0.0,>=2.232.1->cohere<6.0,>=5.5.6->langchain-cohere->jupyter-ai-magics[all]; extra == \"all\"->jupyter-ai[all]) (23.0.0)\n",
      "Requirement already satisfied: databricks-sdk<1,>=0.20.0 in /home/ec2-user/anaconda3/envs/python3/lib/python3.10/site-packages (from mlflow-skinny==2.16.2->mlflow>=2.8->sagemaker-mlflow->sagemaker<3.0.0,>=2.232.1->cohere<6.0,>=5.5.6->langchain-cohere->jupyter-ai-magics[all]; extra == \"all\"->jupyter-ai[all]) (0.34.0)\n",
      "Requirement already satisfied: gitpython<4,>=3.1.9 in /home/ec2-user/anaconda3/envs/python3/lib/python3.10/site-packages (from mlflow-skinny==2.16.2->mlflow>=2.8->sagemaker-mlflow->sagemaker<3.0.0,>=2.232.1->cohere<6.0,>=5.5.6->langchain-cohere->jupyter-ai-magics[all]; extra == \"all\"->jupyter-ai[all]) (3.1.43)\n",
      "Requirement already satisfied: opentelemetry-api<3,>=1.9.0 in /home/ec2-user/anaconda3/envs/python3/lib/python3.10/site-packages (from mlflow-skinny==2.16.2->mlflow>=2.8->sagemaker-mlflow->sagemaker<3.0.0,>=2.232.1->cohere<6.0,>=5.5.6->langchain-cohere->jupyter-ai-magics[all]; extra == \"all\"->jupyter-ai[all]) (1.27.0)\n",
      "Requirement already satisfied: opentelemetry-sdk<3,>=1.9.0 in /home/ec2-user/anaconda3/envs/python3/lib/python3.10/site-packages (from mlflow-skinny==2.16.2->mlflow>=2.8->sagemaker-mlflow->sagemaker<3.0.0,>=2.232.1->cohere<6.0,>=5.5.6->langchain-cohere->jupyter-ai-magics[all]; extra == \"all\"->jupyter-ai[all]) (1.27.0)\n",
      "Requirement already satisfied: sqlparse<1,>=0.4.0 in /home/ec2-user/anaconda3/envs/python3/lib/python3.10/site-packages (from mlflow-skinny==2.16.2->mlflow>=2.8->sagemaker-mlflow->sagemaker<3.0.0,>=2.232.1->cohere<6.0,>=5.5.6->langchain-cohere->jupyter-ai-magics[all]; extra == \"all\"->jupyter-ai[all]) (0.5.1)\n",
      "Requirement already satisfied: Mako in /home/ec2-user/anaconda3/envs/python3/lib/python3.10/site-packages (from alembic!=1.10.0,<2->mlflow>=2.8->sagemaker-mlflow->sagemaker<3.0.0,>=2.232.1->cohere<6.0,>=5.5.6->langchain-cohere->jupyter-ai-magics[all]; extra == \"all\"->jupyter-ai[all]) (1.3.5)\n",
      "Requirement already satisfied: Werkzeug>=3.0.0 in /home/ec2-user/anaconda3/envs/python3/lib/python3.10/site-packages (from Flask<4->mlflow>=2.8->sagemaker-mlflow->sagemaker<3.0.0,>=2.232.1->cohere<6.0,>=5.5.6->langchain-cohere->jupyter-ai-magics[all]; extra == \"all\"->jupyter-ai[all]) (3.0.3)\n",
      "Requirement already satisfied: itsdangerous>=2.1.2 in /home/ec2-user/anaconda3/envs/python3/lib/python3.10/site-packages (from Flask<4->mlflow>=2.8->sagemaker-mlflow->sagemaker<3.0.0,>=2.232.1->cohere<6.0,>=5.5.6->langchain-cohere->jupyter-ai-magics[all]; extra == \"all\"->jupyter-ai[all]) (2.2.0)\n",
      "Requirement already satisfied: blinker>=1.6.2 in /home/ec2-user/anaconda3/envs/python3/lib/python3.10/site-packages (from Flask<4->mlflow>=2.8->sagemaker-mlflow->sagemaker<3.0.0,>=2.232.1->cohere<6.0,>=5.5.6->langchain-cohere->jupyter-ai-magics[all]; extra == \"all\"->jupyter-ai[all]) (1.8.2)\n",
      "Requirement already satisfied: graphql-core<3.3,>=3.1 in /home/ec2-user/anaconda3/envs/python3/lib/python3.10/site-packages (from graphene<4->mlflow>=2.8->sagemaker-mlflow->sagemaker<3.0.0,>=2.232.1->cohere<6.0,>=5.5.6->langchain-cohere->jupyter-ai-magics[all]; extra == \"all\"->jupyter-ai[all]) (3.2.4)\n",
      "Requirement already satisfied: graphql-relay<3.3,>=3.1 in /home/ec2-user/anaconda3/envs/python3/lib/python3.10/site-packages (from graphene<4->mlflow>=2.8->sagemaker-mlflow->sagemaker<3.0.0,>=2.232.1->cohere<6.0,>=5.5.6->langchain-cohere->jupyter-ai-magics[all]; extra == \"all\"->jupyter-ai[all]) (3.2.0)\n",
      "Requirement already satisfied: aniso8601<10,>=8 in /home/ec2-user/anaconda3/envs/python3/lib/python3.10/site-packages (from graphene<4->mlflow>=2.8->sagemaker-mlflow->sagemaker<3.0.0,>=2.232.1->cohere<6.0,>=5.5.6->langchain-cohere->jupyter-ai-magics[all]; extra == \"all\"->jupyter-ai[all]) (9.0.1)\n",
      "Requirement already satisfied: contourpy>=1.0.1 in /home/ec2-user/anaconda3/envs/python3/lib/python3.10/site-packages (from matplotlib<4->mlflow>=2.8->sagemaker-mlflow->sagemaker<3.0.0,>=2.232.1->cohere<6.0,>=5.5.6->langchain-cohere->jupyter-ai-magics[all]; extra == \"all\"->jupyter-ai[all]) (1.2.1)\n",
      "Requirement already satisfied: cycler>=0.10 in /home/ec2-user/anaconda3/envs/python3/lib/python3.10/site-packages (from matplotlib<4->mlflow>=2.8->sagemaker-mlflow->sagemaker<3.0.0,>=2.232.1->cohere<6.0,>=5.5.6->langchain-cohere->jupyter-ai-magics[all]; extra == \"all\"->jupyter-ai[all]) (0.12.1)\n",
      "Requirement already satisfied: fonttools>=4.22.0 in /home/ec2-user/anaconda3/envs/python3/lib/python3.10/site-packages (from matplotlib<4->mlflow>=2.8->sagemaker-mlflow->sagemaker<3.0.0,>=2.232.1->cohere<6.0,>=5.5.6->langchain-cohere->jupyter-ai-magics[all]; extra == \"all\"->jupyter-ai[all]) (4.53.1)\n",
      "Requirement already satisfied: kiwisolver>=1.3.1 in /home/ec2-user/anaconda3/envs/python3/lib/python3.10/site-packages (from matplotlib<4->mlflow>=2.8->sagemaker-mlflow->sagemaker<3.0.0,>=2.232.1->cohere<6.0,>=5.5.6->langchain-cohere->jupyter-ai-magics[all]; extra == \"all\"->jupyter-ai[all]) (1.4.5)\n",
      "Requirement already satisfied: joblib>=1.2.0 in /home/ec2-user/anaconda3/envs/python3/lib/python3.10/site-packages (from scikit-learn<2->mlflow>=2.8->sagemaker-mlflow->sagemaker<3.0.0,>=2.232.1->cohere<6.0,>=5.5.6->langchain-cohere->jupyter-ai-magics[all]; extra == \"all\"->jupyter-ai[all]) (1.4.2)\n",
      "Requirement already satisfied: threadpoolctl>=3.1.0 in /home/ec2-user/anaconda3/envs/python3/lib/python3.10/site-packages (from scikit-learn<2->mlflow>=2.8->sagemaker-mlflow->sagemaker<3.0.0,>=2.232.1->cohere<6.0,>=5.5.6->langchain-cohere->jupyter-ai-magics[all]; extra == \"all\"->jupyter-ai[all]) (3.5.0)\n",
      "Requirement already satisfied: gitdb<5,>=4.0.1 in /home/ec2-user/anaconda3/envs/python3/lib/python3.10/site-packages (from gitpython<4,>=3.1.9->mlflow-skinny==2.16.2->mlflow>=2.8->sagemaker-mlflow->sagemaker<3.0.0,>=2.232.1->cohere<6.0,>=5.5.6->langchain-cohere->jupyter-ai-magics[all]; extra == \"all\"->jupyter-ai[all]) (4.0.11)\n",
      "Requirement already satisfied: deprecated>=1.2.6 in /home/ec2-user/anaconda3/envs/python3/lib/python3.10/site-packages (from opentelemetry-api<3,>=1.9.0->mlflow-skinny==2.16.2->mlflow>=2.8->sagemaker-mlflow->sagemaker<3.0.0,>=2.232.1->cohere<6.0,>=5.5.6->langchain-cohere->jupyter-ai-magics[all]; extra == \"all\"->jupyter-ai[all]) (1.2.14)\n",
      "Requirement already satisfied: opentelemetry-semantic-conventions==0.48b0 in /home/ec2-user/anaconda3/envs/python3/lib/python3.10/site-packages (from opentelemetry-sdk<3,>=1.9.0->mlflow-skinny==2.16.2->mlflow>=2.8->sagemaker-mlflow->sagemaker<3.0.0,>=2.232.1->cohere<6.0,>=5.5.6->langchain-cohere->jupyter-ai-magics[all]; extra == \"all\"->jupyter-ai[all]) (0.48b0)\n",
      "Requirement already satisfied: wrapt<2,>=1.10 in /home/ec2-user/anaconda3/envs/python3/lib/python3.10/site-packages (from deprecated>=1.2.6->opentelemetry-api<3,>=1.9.0->mlflow-skinny==2.16.2->mlflow>=2.8->sagemaker-mlflow->sagemaker<3.0.0,>=2.232.1->cohere<6.0,>=5.5.6->langchain-cohere->jupyter-ai-magics[all]; extra == \"all\"->jupyter-ai[all]) (1.16.0)\n",
      "Requirement already satisfied: smmap<6,>=3.0.1 in /home/ec2-user/anaconda3/envs/python3/lib/python3.10/site-packages (from gitdb<5,>=4.0.1->gitpython<4,>=3.1.9->mlflow-skinny==2.16.2->mlflow>=2.8->sagemaker-mlflow->sagemaker<3.0.0,>=2.232.1->cohere<6.0,>=5.5.6->langchain-cohere->jupyter-ai-magics[all]; extra == \"all\"->jupyter-ai[all]) (5.0.1)\n",
      "Note: you may need to restart the kernel to use updated packages.\n"
     ]
    }
   ],
   "source": [
    "pip install jupyter-ai[all]"
   ]
  },
  {
   "cell_type": "code",
   "execution_count": 16,
   "id": "6fa71967-6e4b-4af8-9c07-641e8935f5c9",
   "metadata": {
    "tags": []
   },
   "outputs": [],
   "source": [
    "import boto3\n",
    "from botocore.exceptions import ClientError\n",
    "import json\n",
    "\n",
    "def get_secret(secret_name):\n",
    "    region_name = \"us-east-1\"\n",
    "\n",
    "    # Create a Secrets Manager client\n",
    "    session = boto3.session.Session()\n",
    "    client = session.client(\n",
    "        service_name='secretsmanager',\n",
    "        region_name=region_name\n",
    "    )\n",
    "\n",
    "    try:\n",
    "        get_secret_value_response = client.get_secret_value(\n",
    "            SecretId=secret_name\n",
    "        )\n",
    "    except ClientError as e:\n",
    "        raise e\n",
    "\n",
    "    secret = get_secret_value_response['SecretString']\n",
    "    \n",
    "    return json.loads(secret)"
   ]
  },
  {
   "cell_type": "code",
   "execution_count": 17,
   "id": "af27aec6-b760-4a1c-b52f-641f774cb722",
   "metadata": {
    "tags": []
   },
   "outputs": [],
   "source": [
    "import os\n",
    "os.environ[\"OPENAI_API_KEY\"] = get_secret('openai')['api_key']"
   ]
  },
  {
   "cell_type": "code",
   "execution_count": 18,
   "id": "1f549da2-8899-4095-87ad-f68e4965736d",
   "metadata": {
    "tags": []
   },
   "outputs": [
    {
     "name": "stdout",
     "output_type": "stream",
     "text": [
      "The jupyter_ai_magics extension is already loaded. To reload it, use:\n",
      "  %reload_ext jupyter_ai_magics\n"
     ]
    }
   ],
   "source": [
    "%load_ext jupyter_ai_magics"
   ]
  },
  {
   "cell_type": "code",
   "execution_count": 19,
   "id": "bca1dc1f-4077-49c3-85dc-b25b4bca0b92",
   "metadata": {
    "tags": []
   },
   "outputs": [
    {
     "data": {
      "text/markdown": [
       "| Provider | Environment variable | Set? | Models |\n",
       "|----------|----------------------|------|--------|\n",
       "| `ai21` | `AI21_API_KEY` | <abbr title=\"You have not set this environment variable, so you cannot use this provider's models.\">❌</abbr> | <ul><li>`ai21:j1-large`</li><li>`ai21:j1-grande`</li><li>`ai21:j1-jumbo`</li><li>`ai21:j1-grande-instruct`</li><li>`ai21:j2-large`</li><li>`ai21:j2-grande`</li><li>`ai21:j2-jumbo`</li><li>`ai21:j2-grande-instruct`</li><li>`ai21:j2-jumbo-instruct`</li></ul> |\n",
       "| `bedrock` | Not applicable. | <abbr title=\"Not applicable\">N/A</abbr> | <ul><li>`bedrock:amazon.titan-text-express-v1`</li><li>`bedrock:amazon.titan-text-lite-v1`</li><li>`bedrock:amazon.titan-text-premier-v1:0`</li><li>`bedrock:ai21.j2-ultra-v1`</li><li>`bedrock:ai21.j2-mid-v1`</li><li>`bedrock:ai21.jamba-instruct-v1:0`</li><li>`bedrock:cohere.command-light-text-v14`</li><li>`bedrock:cohere.command-text-v14`</li><li>`bedrock:cohere.command-r-v1:0`</li><li>`bedrock:cohere.command-r-plus-v1:0`</li><li>`bedrock:meta.llama2-13b-chat-v1`</li><li>`bedrock:meta.llama2-70b-chat-v1`</li><li>`bedrock:meta.llama3-8b-instruct-v1:0`</li><li>`bedrock:meta.llama3-70b-instruct-v1:0`</li><li>`bedrock:meta.llama3-1-8b-instruct-v1:0`</li><li>`bedrock:meta.llama3-1-70b-instruct-v1:0`</li><li>`bedrock:meta.llama3-1-405b-instruct-v1:0`</li><li>`bedrock:mistral.mistral-7b-instruct-v0:2`</li><li>`bedrock:mistral.mixtral-8x7b-instruct-v0:1`</li><li>`bedrock:mistral.mistral-large-2402-v1:0`</li><li>`bedrock:mistral.mistral-large-2407-v1:0`</li></ul> |\n",
       "| `bedrock-chat` | Not applicable. | <abbr title=\"Not applicable\">N/A</abbr> | <ul><li>`bedrock-chat:amazon.titan-text-express-v1`</li><li>`bedrock-chat:amazon.titan-text-lite-v1`</li><li>`bedrock-chat:amazon.titan-text-premier-v1:0`</li><li>`bedrock-chat:anthropic.claude-v2`</li><li>`bedrock-chat:anthropic.claude-v2:1`</li><li>`bedrock-chat:anthropic.claude-instant-v1`</li><li>`bedrock-chat:anthropic.claude-3-sonnet-20240229-v1:0`</li><li>`bedrock-chat:anthropic.claude-3-haiku-20240307-v1:0`</li><li>`bedrock-chat:anthropic.claude-3-opus-20240229-v1:0`</li><li>`bedrock-chat:anthropic.claude-3-5-sonnet-20240620-v1:0`</li><li>`bedrock-chat:meta.llama2-13b-chat-v1`</li><li>`bedrock-chat:meta.llama2-70b-chat-v1`</li><li>`bedrock-chat:meta.llama3-8b-instruct-v1:0`</li><li>`bedrock-chat:meta.llama3-70b-instruct-v1:0`</li><li>`bedrock-chat:meta.llama3-1-8b-instruct-v1:0`</li><li>`bedrock-chat:meta.llama3-1-70b-instruct-v1:0`</li><li>`bedrock-chat:meta.llama3-1-405b-instruct-v1:0`</li><li>`bedrock-chat:mistral.mistral-7b-instruct-v0:2`</li><li>`bedrock-chat:mistral.mixtral-8x7b-instruct-v0:1`</li><li>`bedrock-chat:mistral.mistral-large-2402-v1:0`</li><li>`bedrock-chat:mistral.mistral-large-2407-v1:0`</li></ul> |\n",
       "| `bedrock-custom` | Not applicable. | <abbr title=\"Not applicable\">N/A</abbr> | Specify the ARN (Amazon Resource Name) of the custom/provisioned model as the model ID. For more information, see the [Amazon Bedrock model IDs documentation](https://docs.aws.amazon.com/bedrock/latest/userguide/model-ids.html).\n",
       "\n",
       "The model provider must also be specified below. This is the provider of your foundation model *in lowercase*, e.g. `amazon`, `anthropic`, `meta`, or `mistral`. |\n",
       "| `anthropic` | `ANTHROPIC_API_KEY` | <abbr title=\"You have not set this environment variable, so you cannot use this provider's models.\">❌</abbr> | <ul><li>`anthropic:claude-v1`</li><li>`anthropic:claude-v1.0`</li><li>`anthropic:claude-v1.2`</li><li>`anthropic:claude-2`</li><li>`anthropic:claude-2.0`</li><li>`anthropic:claude-instant-v1`</li><li>`anthropic:claude-instant-v1.0`</li><li>`anthropic:claude-instant-v1.2`</li></ul> |\n",
       "| `anthropic-chat` | `ANTHROPIC_API_KEY` | <abbr title=\"You have not set this environment variable, so you cannot use this provider's models.\">❌</abbr> | <ul><li>`anthropic-chat:claude-2.0`</li><li>`anthropic-chat:claude-2.1`</li><li>`anthropic-chat:claude-instant-1.2`</li><li>`anthropic-chat:claude-3-opus-20240229`</li><li>`anthropic-chat:claude-3-sonnet-20240229`</li><li>`anthropic-chat:claude-3-haiku-20240307`</li><li>`anthropic-chat:claude-3-5-sonnet-20240620`</li></ul> |\n",
       "| `azure-chat-openai` | `AZURE_OPENAI_API_KEY` | <abbr title=\"You have not set this environment variable, so you cannot use this provider's models.\">❌</abbr> | This provider does not define a list of models. |\n",
       "| `cohere` | `COHERE_API_KEY` | <abbr title=\"You have not set this environment variable, so you cannot use this provider's models.\">❌</abbr> | <ul><li>`cohere:command`</li><li>`cohere:command-nightly`</li><li>`cohere:command-light`</li><li>`cohere:command-light-nightly`</li><li>`cohere:command-r-plus`</li><li>`cohere:command-r`</li></ul> |\n",
       "| `gemini` | `GOOGLE_API_KEY` | <abbr title=\"You have not set this environment variable, so you cannot use this provider's models.\">❌</abbr> | <ul><li>`gemini:gemini-1.5-pro`</li><li>`gemini:gemini-1.5-flash`</li><li>`gemini:gemini-1.0-pro`</li><li>`gemini:gemini-1.0-pro-001`</li><li>`gemini:gemini-1.0-pro-latest`</li><li>`gemini:gemini-1.0-pro-vision-latest`</li><li>`gemini:gemini-pro`</li><li>`gemini:gemini-pro-vision`</li></ul> |\n",
       "| `gpt4all` | Not applicable. | <abbr title=\"Not applicable\">N/A</abbr> | <ul><li>`gpt4all:ggml-gpt4all-j-v1.2-jazzy`</li><li>`gpt4all:ggml-gpt4all-j-v1.3-groovy`</li><li>`gpt4all:ggml-gpt4all-l13b-snoozy`</li><li>`gpt4all:mistral-7b-openorca.Q4_0`</li><li>`gpt4all:mistral-7b-instruct-v0.1.Q4_0`</li><li>`gpt4all:gpt4all-falcon-q4_0`</li><li>`gpt4all:wizardlm-13b-v1.2.Q4_0`</li><li>`gpt4all:nous-hermes-llama2-13b.Q4_0`</li><li>`gpt4all:gpt4all-13b-snoozy-q4_0`</li><li>`gpt4all:mpt-7b-chat-merges-q4_0`</li><li>`gpt4all:orca-mini-3b-gguf2-q4_0`</li><li>`gpt4all:starcoder-q4_0`</li><li>`gpt4all:rift-coder-v0-7b-q4_0`</li><li>`gpt4all:em_german_mistral_v01.Q4_0`</li></ul> |\n",
       "| `huggingface_hub` | `HUGGINGFACEHUB_API_TOKEN` | <abbr title=\"You have not set this environment variable, so you cannot use this provider's models.\">❌</abbr> | See [https://huggingface.co/models](https://huggingface.co/models) for a list of models. Pass a model's repository ID as the model ID; for example, `huggingface_hub:ExampleOwner/example-model`. |\n",
       "| `mistralai` | `MISTRAL_API_KEY` | <abbr title=\"You have not set this environment variable, so you cannot use this provider's models.\">❌</abbr> | <ul><li>`mistralai:open-mistral-7b`</li><li>`mistralai:open-mixtral-8x7b`</li><li>`mistralai:open-mixtral-8x22b`</li><li>`mistralai:mistral-small-latest`</li><li>`mistralai:mistral-medium-latest`</li><li>`mistralai:mistral-large-latest`</li><li>`mistralai:codestral-latest`</li></ul> |\n",
       "| `nvidia-chat` | `NVIDIA_API_KEY` | <abbr title=\"You have not set this environment variable, so you cannot use this provider's models.\">❌</abbr> | <ul><li>`nvidia-chat:playground_llama2_70b`</li><li>`nvidia-chat:playground_nemotron_steerlm_8b`</li><li>`nvidia-chat:playground_mistral_7b`</li><li>`nvidia-chat:playground_nv_llama2_rlhf_70b`</li><li>`nvidia-chat:playground_llama2_13b`</li><li>`nvidia-chat:playground_steerlm_llama_70b`</li><li>`nvidia-chat:playground_llama2_code_13b`</li><li>`nvidia-chat:playground_yi_34b`</li><li>`nvidia-chat:playground_mixtral_8x7b`</li><li>`nvidia-chat:playground_neva_22b`</li><li>`nvidia-chat:playground_llama2_code_34b`</li></ul> |\n",
       "| `ollama` | Not applicable. | <abbr title=\"Not applicable\">N/A</abbr> | See [https://www.ollama.com/library](https://www.ollama.com/library) for a list of models. Pass a model's name; for example, `deepseek-coder-v2`. |\n",
       "| `openai` | `OPENAI_API_KEY` | <abbr title=\"You have set this environment variable, so you can use this provider's models.\">✅</abbr> | <ul><li>`openai:babbage-002`</li><li>`openai:davinci-002`</li><li>`openai:gpt-3.5-turbo-instruct`</li></ul> |\n",
       "| `openai-chat` | `OPENAI_API_KEY` | <abbr title=\"You have set this environment variable, so you can use this provider's models.\">✅</abbr> | <ul><li>`openai-chat:gpt-3.5-turbo`</li><li>`openai-chat:gpt-3.5-turbo-0125`</li><li>`openai-chat:gpt-3.5-turbo-0301`</li><li>`openai-chat:gpt-3.5-turbo-0613`</li><li>`openai-chat:gpt-3.5-turbo-1106`</li><li>`openai-chat:gpt-3.5-turbo-16k`</li><li>`openai-chat:gpt-3.5-turbo-16k-0613`</li><li>`openai-chat:gpt-4`</li><li>`openai-chat:gpt-4-turbo`</li><li>`openai-chat:gpt-4-turbo-preview`</li><li>`openai-chat:gpt-4-0613`</li><li>`openai-chat:gpt-4-32k`</li><li>`openai-chat:gpt-4-32k-0613`</li><li>`openai-chat:gpt-4-0125-preview`</li><li>`openai-chat:gpt-4-1106-preview`</li><li>`openai-chat:gpt-4o`</li><li>`openai-chat:gpt-4o-mini`</li></ul> |\n",
       "| `openrouter` | `OPENROUTER_API_KEY` | <abbr title=\"You have not set this environment variable, so you cannot use this provider's models.\">❌</abbr> | This provider does not define a list of models. |\n",
       "| `qianfan` | `QIANFAN_AK`, `QIANFAN_SK` | <abbr title=\"You have not set all of these environment variables, so you cannot use this provider's models.\">❌</abbr> | <ul><li>`qianfan:ERNIE-Bot`</li><li>`qianfan:ERNIE-Bot-4`</li></ul> |\n",
       "| `sagemaker-endpoint` | Not applicable. | <abbr title=\"Not applicable\">N/A</abbr> | Specify an endpoint name as the model ID. In addition, you must specify a region name, request schema, and response path. For more information, see the documentation about [SageMaker endpoints deployment](https://docs.aws.amazon.com/sagemaker/latest/dg/realtime-endpoints-deploy-models.html) and about [using magic commands with SageMaker endpoints](https://jupyter-ai.readthedocs.io/en/latest/users/index.html#using-magic-commands-with-sagemaker-endpoints). |\n",
       "| `togetherai` | `TOGETHER_API_KEY` | <abbr title=\"You have not set this environment variable, so you cannot use this provider's models.\">❌</abbr> | <ul><li>`togetherai:Austism/chronos-hermes-13b`</li><li>`togetherai:DiscoResearch/DiscoLM-mixtral-8x7b-v2`</li><li>`togetherai:EleutherAI/llemma_7b`</li><li>`togetherai:Gryphe/MythoMax-L2-13b`</li><li>`togetherai:Meta-Llama/Llama-Guard-7b`</li><li>`togetherai:Nexusflow/NexusRaven-V2-13B`</li><li>`togetherai:NousResearch/Nous-Capybara-7B-V1p9`</li><li>`togetherai:NousResearch/Nous-Hermes-2-Yi-34B`</li><li>`togetherai:NousResearch/Nous-Hermes-Llama2-13b`</li><li>`togetherai:NousResearch/Nous-Hermes-Llama2-70b`</li></ul> |\n",
       "\n",
       "Aliases and custom commands:\n",
       "\n",
       "| Name | Target |\n",
       "|------|--------|\n",
       "| `gpt2` | `huggingface_hub:gpt2` |\n",
       "| `gpt3` | `openai:davinci-002` |\n",
       "| `chatgpt` | `openai-chat:gpt-3.5-turbo` |\n",
       "| `gpt4` | `openai-chat:gpt-4` |\n",
       "| `ernie-bot` | `qianfan:ERNIE-Bot` |\n",
       "| `ernie-bot-4` | `qianfan:ERNIE-Bot-4` |\n",
       "| `titan` | `bedrock:amazon.titan-tg1-large` |\n",
       "| `openrouter-claude` | `openrouter:anthropic/claude-3.5-sonnet:beta` |\n"
      ],
      "text/plain": [
       "ai21\n",
       "Requires environment variable: AI21_API_KEY (not set)\n",
       "* ai21:j1-large\n",
       "* ai21:j1-grande\n",
       "* ai21:j1-jumbo\n",
       "* ai21:j1-grande-instruct\n",
       "* ai21:j2-large\n",
       "* ai21:j2-grande\n",
       "* ai21:j2-jumbo\n",
       "* ai21:j2-grande-instruct\n",
       "* ai21:j2-jumbo-instruct\n",
       "\n",
       "bedrock\n",
       "* bedrock:amazon.titan-text-express-v1\n",
       "* bedrock:amazon.titan-text-lite-v1\n",
       "* bedrock:amazon.titan-text-premier-v1:0\n",
       "* bedrock:ai21.j2-ultra-v1\n",
       "* bedrock:ai21.j2-mid-v1\n",
       "* bedrock:ai21.jamba-instruct-v1:0\n",
       "* bedrock:cohere.command-light-text-v14\n",
       "* bedrock:cohere.command-text-v14\n",
       "* bedrock:cohere.command-r-v1:0\n",
       "* bedrock:cohere.command-r-plus-v1:0\n",
       "* bedrock:meta.llama2-13b-chat-v1\n",
       "* bedrock:meta.llama2-70b-chat-v1\n",
       "* bedrock:meta.llama3-8b-instruct-v1:0\n",
       "* bedrock:meta.llama3-70b-instruct-v1:0\n",
       "* bedrock:meta.llama3-1-8b-instruct-v1:0\n",
       "* bedrock:meta.llama3-1-70b-instruct-v1:0\n",
       "* bedrock:meta.llama3-1-405b-instruct-v1:0\n",
       "* bedrock:mistral.mistral-7b-instruct-v0:2\n",
       "* bedrock:mistral.mixtral-8x7b-instruct-v0:1\n",
       "* bedrock:mistral.mistral-large-2402-v1:0\n",
       "* bedrock:mistral.mistral-large-2407-v1:0\n",
       "\n",
       "bedrock-chat\n",
       "* bedrock-chat:amazon.titan-text-express-v1\n",
       "* bedrock-chat:amazon.titan-text-lite-v1\n",
       "* bedrock-chat:amazon.titan-text-premier-v1:0\n",
       "* bedrock-chat:anthropic.claude-v2\n",
       "* bedrock-chat:anthropic.claude-v2:1\n",
       "* bedrock-chat:anthropic.claude-instant-v1\n",
       "* bedrock-chat:anthropic.claude-3-sonnet-20240229-v1:0\n",
       "* bedrock-chat:anthropic.claude-3-haiku-20240307-v1:0\n",
       "* bedrock-chat:anthropic.claude-3-opus-20240229-v1:0\n",
       "* bedrock-chat:anthropic.claude-3-5-sonnet-20240620-v1:0\n",
       "* bedrock-chat:meta.llama2-13b-chat-v1\n",
       "* bedrock-chat:meta.llama2-70b-chat-v1\n",
       "* bedrock-chat:meta.llama3-8b-instruct-v1:0\n",
       "* bedrock-chat:meta.llama3-70b-instruct-v1:0\n",
       "* bedrock-chat:meta.llama3-1-8b-instruct-v1:0\n",
       "* bedrock-chat:meta.llama3-1-70b-instruct-v1:0\n",
       "* bedrock-chat:meta.llama3-1-405b-instruct-v1:0\n",
       "* bedrock-chat:mistral.mistral-7b-instruct-v0:2\n",
       "* bedrock-chat:mistral.mixtral-8x7b-instruct-v0:1\n",
       "* bedrock-chat:mistral.mistral-large-2402-v1:0\n",
       "* bedrock-chat:mistral.mistral-large-2407-v1:0\n",
       "\n",
       "bedrock-custom\n",
       "* Specify the ARN (Amazon Resource Name) of the custom/provisioned model as the model ID. For more information, see the [Amazon Bedrock model IDs documentation](https://docs.aws.amazon.com/bedrock/latest/userguide/model-ids.html).\n",
       "\n",
       "The model provider must also be specified below. This is the provider of your foundation model *in lowercase*, e.g. `amazon`, `anthropic`, `meta`, or `mistral`.\n",
       "\n",
       "anthropic\n",
       "Requires environment variable: ANTHROPIC_API_KEY (not set)\n",
       "* anthropic:claude-v1\n",
       "* anthropic:claude-v1.0\n",
       "* anthropic:claude-v1.2\n",
       "* anthropic:claude-2\n",
       "* anthropic:claude-2.0\n",
       "* anthropic:claude-instant-v1\n",
       "* anthropic:claude-instant-v1.0\n",
       "* anthropic:claude-instant-v1.2\n",
       "\n",
       "anthropic-chat\n",
       "Requires environment variable: ANTHROPIC_API_KEY (not set)\n",
       "* anthropic-chat:claude-2.0\n",
       "* anthropic-chat:claude-2.1\n",
       "* anthropic-chat:claude-instant-1.2\n",
       "* anthropic-chat:claude-3-opus-20240229\n",
       "* anthropic-chat:claude-3-sonnet-20240229\n",
       "* anthropic-chat:claude-3-haiku-20240307\n",
       "* anthropic-chat:claude-3-5-sonnet-20240620\n",
       "\n",
       "azure-chat-openai\n",
       "Requires environment variable: AZURE_OPENAI_API_KEY (not set)\n",
       "* This provider does not define a list of models.\n",
       "\n",
       "cohere\n",
       "Requires environment variable: COHERE_API_KEY (not set)\n",
       "* cohere:command\n",
       "* cohere:command-nightly\n",
       "* cohere:command-light\n",
       "* cohere:command-light-nightly\n",
       "* cohere:command-r-plus\n",
       "* cohere:command-r\n",
       "\n",
       "gemini\n",
       "Requires environment variable: GOOGLE_API_KEY (not set)\n",
       "* gemini:gemini-1.5-pro\n",
       "* gemini:gemini-1.5-flash\n",
       "* gemini:gemini-1.0-pro\n",
       "* gemini:gemini-1.0-pro-001\n",
       "* gemini:gemini-1.0-pro-latest\n",
       "* gemini:gemini-1.0-pro-vision-latest\n",
       "* gemini:gemini-pro\n",
       "* gemini:gemini-pro-vision\n",
       "\n",
       "gpt4all\n",
       "* gpt4all:ggml-gpt4all-j-v1.2-jazzy\n",
       "* gpt4all:ggml-gpt4all-j-v1.3-groovy\n",
       "* gpt4all:ggml-gpt4all-l13b-snoozy\n",
       "* gpt4all:mistral-7b-openorca.Q4_0\n",
       "* gpt4all:mistral-7b-instruct-v0.1.Q4_0\n",
       "* gpt4all:gpt4all-falcon-q4_0\n",
       "* gpt4all:wizardlm-13b-v1.2.Q4_0\n",
       "* gpt4all:nous-hermes-llama2-13b.Q4_0\n",
       "* gpt4all:gpt4all-13b-snoozy-q4_0\n",
       "* gpt4all:mpt-7b-chat-merges-q4_0\n",
       "* gpt4all:orca-mini-3b-gguf2-q4_0\n",
       "* gpt4all:starcoder-q4_0\n",
       "* gpt4all:rift-coder-v0-7b-q4_0\n",
       "* gpt4all:em_german_mistral_v01.Q4_0\n",
       "\n",
       "huggingface_hub\n",
       "Requires environment variable: HUGGINGFACEHUB_API_TOKEN (not set)\n",
       "* See [https://huggingface.co/models](https://huggingface.co/models) for a list of models. Pass a model's repository ID as the model ID; for example, `huggingface_hub:ExampleOwner/example-model`.\n",
       "\n",
       "mistralai\n",
       "Requires environment variable: MISTRAL_API_KEY (not set)\n",
       "* mistralai:open-mistral-7b\n",
       "* mistralai:open-mixtral-8x7b\n",
       "* mistralai:open-mixtral-8x22b\n",
       "* mistralai:mistral-small-latest\n",
       "* mistralai:mistral-medium-latest\n",
       "* mistralai:mistral-large-latest\n",
       "* mistralai:codestral-latest\n",
       "\n",
       "nvidia-chat\n",
       "Requires environment variable: NVIDIA_API_KEY (not set)\n",
       "* nvidia-chat:playground_llama2_70b\n",
       "* nvidia-chat:playground_nemotron_steerlm_8b\n",
       "* nvidia-chat:playground_mistral_7b\n",
       "* nvidia-chat:playground_nv_llama2_rlhf_70b\n",
       "* nvidia-chat:playground_llama2_13b\n",
       "* nvidia-chat:playground_steerlm_llama_70b\n",
       "* nvidia-chat:playground_llama2_code_13b\n",
       "* nvidia-chat:playground_yi_34b\n",
       "* nvidia-chat:playground_mixtral_8x7b\n",
       "* nvidia-chat:playground_neva_22b\n",
       "* nvidia-chat:playground_llama2_code_34b\n",
       "\n",
       "ollama\n",
       "* See [https://www.ollama.com/library](https://www.ollama.com/library) for a list of models. Pass a model's name; for example, `deepseek-coder-v2`.\n",
       "\n",
       "openai\n",
       "Requires environment variable: OPENAI_API_KEY (set)\n",
       "* openai:babbage-002\n",
       "* openai:davinci-002\n",
       "* openai:gpt-3.5-turbo-instruct\n",
       "\n",
       "openai-chat\n",
       "Requires environment variable: OPENAI_API_KEY (set)\n",
       "* openai-chat:gpt-3.5-turbo\n",
       "* openai-chat:gpt-3.5-turbo-0125\n",
       "* openai-chat:gpt-3.5-turbo-0301\n",
       "* openai-chat:gpt-3.5-turbo-0613\n",
       "* openai-chat:gpt-3.5-turbo-1106\n",
       "* openai-chat:gpt-3.5-turbo-16k\n",
       "* openai-chat:gpt-3.5-turbo-16k-0613\n",
       "* openai-chat:gpt-4\n",
       "* openai-chat:gpt-4-turbo\n",
       "* openai-chat:gpt-4-turbo-preview\n",
       "* openai-chat:gpt-4-0613\n",
       "* openai-chat:gpt-4-32k\n",
       "* openai-chat:gpt-4-32k-0613\n",
       "* openai-chat:gpt-4-0125-preview\n",
       "* openai-chat:gpt-4-1106-preview\n",
       "* openai-chat:gpt-4o\n",
       "* openai-chat:gpt-4o-mini\n",
       "\n",
       "openrouter\n",
       "Requires environment variable: OPENROUTER_API_KEY (not set)\n",
       "* This provider does not define a list of models.\n",
       "\n",
       "qianfan\n",
       "Requires environment variables: QIANFAN_AK (not set), QIANFAN_SK (not set)\n",
       "* qianfan:ERNIE-Bot\n",
       "* qianfan:ERNIE-Bot-4\n",
       "\n",
       "sagemaker-endpoint\n",
       "* Specify an endpoint name as the model ID. In addition, you must specify a region name, request schema, and response path. For more information, see the documentation about [SageMaker endpoints deployment](https://docs.aws.amazon.com/sagemaker/latest/dg/realtime-endpoints-deploy-models.html) and about [using magic commands with SageMaker endpoints](https://jupyter-ai.readthedocs.io/en/latest/users/index.html#using-magic-commands-with-sagemaker-endpoints).\n",
       "\n",
       "togetherai\n",
       "Requires environment variable: TOGETHER_API_KEY (not set)\n",
       "* togetherai:Austism/chronos-hermes-13b\n",
       "* togetherai:DiscoResearch/DiscoLM-mixtral-8x7b-v2\n",
       "* togetherai:EleutherAI/llemma_7b\n",
       "* togetherai:Gryphe/MythoMax-L2-13b\n",
       "* togetherai:Meta-Llama/Llama-Guard-7b\n",
       "* togetherai:Nexusflow/NexusRaven-V2-13B\n",
       "* togetherai:NousResearch/Nous-Capybara-7B-V1p9\n",
       "* togetherai:NousResearch/Nous-Hermes-2-Yi-34B\n",
       "* togetherai:NousResearch/Nous-Hermes-Llama2-13b\n",
       "* togetherai:NousResearch/Nous-Hermes-Llama2-70b\n",
       "\n",
       "\n",
       "Aliases and custom commands:\n",
       "gpt2 - huggingface_hub:gpt2\n",
       "gpt3 - openai:davinci-002\n",
       "chatgpt - openai-chat:gpt-3.5-turbo\n",
       "gpt4 - openai-chat:gpt-4\n",
       "ernie-bot - qianfan:ERNIE-Bot\n",
       "ernie-bot-4 - qianfan:ERNIE-Bot-4\n",
       "titan - bedrock:amazon.titan-tg1-large\n",
       "openrouter-claude - openrouter:anthropic/claude-3.5-sonnet:beta\n"
      ]
     },
     "execution_count": 19,
     "metadata": {},
     "output_type": "execute_result"
    }
   ],
   "source": [
    "%ai list"
   ]
  },
  {
   "cell_type": "code",
   "execution_count": 20,
   "id": "9c515348-3e68-47fe-9f86-42336dfba8ba",
   "metadata": {
    "tags": []
   },
   "outputs": [
    {
     "data": {
      "text/markdown": [
       "It appears that you're trying to load a CSV file from an S3 bucket and display the first few rows using pandas. However, the data you've provided seems to be a manual input or a representation of the desired output. \n",
       "\n",
       "Here's how you can load a CSV file from S3 and display the first few rows:\n",
       "\n",
       "```python\n",
       "import pandas as pd\n",
       "\n",
       "# Load data from S3\n",
       "df = pd.read_csv('s3://ia340-2024fall-2-237574/Lottery_Powerball_Winning_Numbers__Beginning_2010.csv')\n",
       "\n",
       "# Display the first few rows\n",
       "df.head()\n",
       "```\n",
       "\n",
       "The code above will load your data and show the first five rows. Replace `'s3://ia340-2024fall-2-237574/Lottery_Powerball_Winning_Numbers__Beginning_2010.csv'` with the path to your actual file.\n",
       "\n",
       "Unfortunately, I can't run the code for you as it requires access to your S3 bucket. You should be able to run it in your local environment. Also, ensure that you have the necessary permissions to read the file from the bucket.\n",
       "\n",
       "After running the code, the output will be in a DataFrame format, not markdown. To produce output in markdown format, you can convert the DataFrame to markdown using the `tabulate` library:\n",
       "\n",
       "```python\n",
       "from tabulate import tabulate\n",
       "\n",
       "print(tabulate(df.head(), tablefmt=\"pipe\", headers=\"keys\"))\n",
       "```\n",
       "\n",
       "This will print the first five rows of your DataFrame in a markdown format."
      ],
      "text/plain": [
       "<IPython.core.display.Markdown object>"
      ]
     },
     "execution_count": 20,
     "metadata": {
      "text/markdown": {
       "jupyter_ai": {
        "model_id": "gpt-4",
        "provider_id": "openai-chat"
       }
      }
     },
     "output_type": "execute_result"
    }
   ],
   "source": [
    "%%ai gpt4\n",
    "what is the {df} in {In[1]}"
   ]
  },
  {
   "cell_type": "code",
   "execution_count": 21,
   "id": "dcb6f2b0-75b0-4ee2-b0d6-d54cc4d1374c",
   "metadata": {
    "tags": []
   },
   "outputs": [
    {
     "data": {
      "text/html": [
       "AI generated code inserted below &#11015;&#65039;"
      ],
      "text/plain": [
       "<IPython.core.display.HTML object>"
      ]
     },
     "execution_count": 21,
     "metadata": {
      "text/html": {
       "jupyter_ai": {
        "model_id": "gpt-4",
        "provider_id": "openai-chat"
       }
      }
     },
     "output_type": "execute_result"
    }
   ],
   "source": [
    "%%ai gpt4 -f code\n",
    "calculate the most common numbers in {df} in {In[1]}\n",
    "show the result on a bar graph"
   ]
  },
  {
   "cell_type": "code",
   "execution_count": 22,
   "id": "acbd4bbf-8500-44ae-a83a-3eb52d4ff879",
   "metadata": {
    "tags": []
   },
   "outputs": [
    {
     "data": {
      "image/png": "[encoded data removed]",
      "text/plain": [
       "<Figure size 1000x500 with 1 Axes>"
      ]
     },
     "metadata": {},
     "output_type": "display_data"
    }
   ],
   "source": [
    "import pandas as pd\n",
    "import matplotlib.pyplot as plt\n",
    "from collections import Counter\n",
    "\n",
    "# Load data\n",
    "df = pd.read_csv('s3://ia340-2024fall-2-237574/Lottery_Powerball_Winning_Numbers__Beginning_2010.csv')\n",
    "\n",
    "# Split the 'Winning Numbers' into a list of numbers\n",
    "df['Winning Numbers'] = df['Winning Numbers'].apply(lambda x: x.split())\n",
    "\n",
    "# Flatten the list of lists\n",
    "numbers = [int(item) for sublist in df['Winning Numbers'].tolist() for item in sublist]\n",
    "\n",
    "# Calculate the frequency of each number\n",
    "counter = Counter(numbers)\n",
    "\n",
    "# Prepare data for the bar graph\n",
    "labels, values = zip(*counter.items())\n",
    "\n",
    "# Plot\n",
    "plt.figure(figsize=(10,5))\n",
    "plt.bar(labels, values)\n",
    "plt.xlabel('Number')\n",
    "plt.ylabel('Frequency')\n",
    "plt.title('Frequency of Winning Numbers')\n",
    "plt.show()"
   ]
  },
  {
   "cell_type": "code",
   "execution_count": 23,
   "id": "ce1dcbe2-e03f-44c9-8051-5b2eafe4e29b",
   "metadata": {
    "tags": []
   },
   "outputs": [
    {
     "data": {
      "text/html": [
       "AI generated code inserted below &#11015;&#65039;"
      ],
      "text/plain": [
       "<IPython.core.display.HTML object>"
      ]
     },
     "execution_count": 23,
     "metadata": {
      "text/html": {
       "jupyter_ai": {
        "model_id": "gpt-4",
        "provider_id": "openai-chat"
       }
      }
     },
     "output_type": "execute_result"
    }
   ],
   "source": [
    "%%ai gpt4 -f code\n",
    "calculate the year with the most winning numbers in the {df} in {In[1]}\n",
    "show the result on a line chart"
   ]
  },
  {
   "cell_type": "code",
   "execution_count": 24,
   "id": "f3a0d0c4-5249-4f82-a673-0af1b5ec7bc6",
   "metadata": {
    "tags": []
   },
   "outputs": [
    {
     "data": {
      "image/png": "[encoded data removed]",
      "text/plain": [
       "<Figure size 1000x500 with 1 Axes>"
      ]
     },
     "metadata": {},
     "output_type": "display_data"
    }
   ],
   "source": [
    "import pandas as pd\n",
    "import matplotlib.pyplot as plt\n",
    "\n",
    "# Load data\n",
    "df = pd.read_csv('s3://ia340-2024fall-2-237574/Lottery_Powerball_Winning_Numbers__Beginning_2010.csv')\n",
    "\n",
    "# Convert 'Draw Date' to datetime and extract year\n",
    "df['Draw Date'] = pd.to_datetime(df['Draw Date'])\n",
    "df['Year'] = df['Draw Date'].dt.year\n",
    "\n",
    "# Split the 'Winning Numbers' into a list of numbers and calculate their length\n",
    "df['Winning Numbers'] = df['Winning Numbers'].apply(lambda x: len(x.split()))\n",
    "\n",
    "# Group by 'Year' and calculate the sum of 'Winning Numbers'\n",
    "df_grouped = df.groupby('Year')['Winning Numbers'].sum().reset_index()\n",
    "\n",
    "# Plot\n",
    "plt.figure(figsize=(10,5))\n",
    "plt.plot(df_grouped['Year'], df_grouped['Winning Numbers'])\n",
    "plt.xlabel('Year')\n",
    "plt.ylabel('Total Winning Numbers')\n",
    "plt.title('Total Winning Numbers by Year')\n",
    "plt.show()"
   ]
  },
  {
   "cell_type": "code",
   "execution_count": null,
   "id": "93ac9151-ad32-451d-9fdd-790179f915bc",
   "metadata": {},
   "outputs": [],
   "source": []
  }
 ],
 "metadata": {
  "kernelspec": {
   "display_name": "conda_python3",
   "language": "python",
   "name": "conda_python3"
  },
  "language_info": {
   "codemirror_mode": {
    "name": "ipython",
    "version": 3
   },
   "file_extension": ".py",
   "mimetype": "text/x-python",
   "name": "python",
   "nbconvert_exporter": "python",
   "pygments_lexer": "ipython3",
   "version": "3.10.14"
  }
 },
 "nbformat": 4,
 "nbformat_minor": 5
}
